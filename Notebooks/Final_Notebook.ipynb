{
 "cells": [
  {
   "cell_type": "markdown",
   "metadata": {},
   "source": [
    "# Cat or Dog?"
   ]
  },
  {
   "cell_type": "markdown",
   "metadata": {},
   "source": [
    "Using neural networks to determine if an image contains a cat or a dog."
   ]
  },
  {
   "cell_type": "markdown",
   "metadata": {},
   "source": [
    "## Project Goal"
   ]
  },
  {
   "cell_type": "markdown",
   "metadata": {},
   "source": [
    "This project aims to make a image classification model tha can determine if an image contains a cat or a dog."
   ]
  },
  {
   "cell_type": "markdown",
   "metadata": {},
   "source": [
    "## Definition(s)"
   ]
  },
  {
   "cell_type": "markdown",
   "metadata": {},
   "source": [
    "- CNN/ convolutional neural net: A model that tries to observe patterns in an array/image and then use those patterns to identify classes."
   ]
  },
  {
   "cell_type": "markdown",
   "metadata": {},
   "source": [
    "## Data"
   ]
  },
  {
   "cell_type": "markdown",
   "metadata": {},
   "source": [
    "This dataset was taken from an old kaggle competition that can be found [here](https://www.kaggle.com/c/dogs-vs-cats). The images are from an old CAPTCHA known as *Animal Species Image Recognition for Restricting Access* (or *Asirra* for short) which asked the user to identify whether or not several images displayed contained either a cat or a dog.\n",
    "\n",
    "There are 25,000 images total evenly split between cats(0) and dogs(1). \n",
    "\n",
    "As this is a kaggle competition there was a test set but the images were not labeled. I may in the future grab 100 images and manualy label them cat or dog to get a score out of 100 on its test accuracy."
   ]
  },
  {
   "cell_type": "markdown",
   "metadata": {},
   "source": [
    "## EDA"
   ]
  },
  {
   "cell_type": "markdown",
   "metadata": {},
   "source": [
    "In order to get a grasp on the rough size of the images to create a better target size for my models I had made this script to get the average height and width of the images:"
   ]
  },
  {
   "cell_type": "code",
   "execution_count": null,
   "metadata": {},
   "outputs": [],
   "source": [
    "from PIL import Image\n",
    "\n",
    "width = []\n",
    "height = []\n",
    "\n",
    "for filename in filenames:\n",
    "    \n",
    "\n",
    "    \n",
    "    img_path = os.path.join(data_path, filename)\n",
    "    im = Image.open(img_path)\n",
    "    \n",
    "    w, h = im.size\n",
    "    \n",
    "    width.append(w)\n",
    "    height.append(h)\n",
    "    \n",
    "w_avg = sum(width)/len(width)\n",
    "h_avg = sum(height)/len(height)\n",
    "    \n",
    "print(w_avg, h_avg)"
   ]
  },
  {
   "cell_type": "markdown",
   "metadata": {},
   "source": [
    "This returned (404, 360)"
   ]
  }
 ],
 "metadata": {
  "kernelspec": {
   "display_name": "learn-env",
   "language": "python",
   "name": "learn-env"
  },
  "language_info": {
   "codemirror_mode": {
    "name": "ipython",
    "version": 3
   },
   "file_extension": ".py",
   "mimetype": "text/x-python",
   "name": "python",
   "nbconvert_exporter": "python",
   "pygments_lexer": "ipython3",
   "version": "3.6.9"
  }
 },
 "nbformat": 4,
 "nbformat_minor": 4
}

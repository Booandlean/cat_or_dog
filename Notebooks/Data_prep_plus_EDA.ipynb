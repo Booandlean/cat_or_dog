{
 "cells": [
  {
   "cell_type": "markdown",
   "metadata": {},
   "source": [
    "## Imports"
   ]
  },
  {
   "cell_type": "code",
   "execution_count": 3,
   "metadata": {},
   "outputs": [],
   "source": [
    "import numpy as np\n",
    "import pandas as pd \n",
    "import matplotlib.pyplot as plt\n",
    "import random\n",
    "import os\n",
    "import seaborn as sns\n",
    "from PIL import Image"
   ]
  },
  {
   "cell_type": "markdown",
   "metadata": {},
   "source": [
    "## Pathway(s)"
   ]
  },
  {
   "cell_type": "code",
   "execution_count": 4,
   "metadata": {},
   "outputs": [],
   "source": [
    "data_path = '../Data/train'"
   ]
  },
  {
   "cell_type": "markdown",
   "metadata": {},
   "source": [
    "## Data Prep"
   ]
  },
  {
   "cell_type": "code",
   "execution_count": 5,
   "metadata": {},
   "outputs": [],
   "source": [
    "filenames = os.listdir(data_path)\n",
    "labels = []"
   ]
  },
  {
   "cell_type": "code",
   "execution_count": 6,
   "metadata": {},
   "outputs": [],
   "source": [
    "for filename in filenames:\n",
    "    label = filename.split('.')[0]\n",
    "    if label == 'dog':\n",
    "        labels.append(1) #1 for dog\n",
    "    else:\n",
    "        labels.append(0) #0 for gat-0"
   ]
  },
  {
   "cell_type": "code",
   "execution_count": 7,
   "metadata": {},
   "outputs": [
    {
     "data": {
      "text/html": [
       "<div>\n",
       "<style scoped>\n",
       "    .dataframe tbody tr th:only-of-type {\n",
       "        vertical-align: middle;\n",
       "    }\n",
       "\n",
       "    .dataframe tbody tr th {\n",
       "        vertical-align: top;\n",
       "    }\n",
       "\n",
       "    .dataframe thead th {\n",
       "        text-align: right;\n",
       "    }\n",
       "</style>\n",
       "<table border=\"1\" class=\"dataframe\">\n",
       "  <thead>\n",
       "    <tr style=\"text-align: right;\">\n",
       "      <th></th>\n",
       "      <th>filename</th>\n",
       "      <th>label</th>\n",
       "    </tr>\n",
       "  </thead>\n",
       "  <tbody>\n",
       "    <tr>\n",
       "      <td>8632</td>\n",
       "      <td>cat.112.jpg</td>\n",
       "      <td>0</td>\n",
       "    </tr>\n",
       "    <tr>\n",
       "      <td>20870</td>\n",
       "      <td>dog.384.jpg</td>\n",
       "      <td>1</td>\n",
       "    </tr>\n",
       "    <tr>\n",
       "      <td>2434</td>\n",
       "      <td>dog.10342.jpg</td>\n",
       "      <td>1</td>\n",
       "    </tr>\n",
       "    <tr>\n",
       "      <td>2331</td>\n",
       "      <td>cat.2848.jpg</td>\n",
       "      <td>0</td>\n",
       "    </tr>\n",
       "    <tr>\n",
       "      <td>20370</td>\n",
       "      <td>dog.5271.jpg</td>\n",
       "      <td>1</td>\n",
       "    </tr>\n",
       "    <tr>\n",
       "      <td>3748</td>\n",
       "      <td>dog.6614.jpg</td>\n",
       "      <td>1</td>\n",
       "    </tr>\n",
       "    <tr>\n",
       "      <td>1148</td>\n",
       "      <td>cat.3017.jpg</td>\n",
       "      <td>0</td>\n",
       "    </tr>\n",
       "    <tr>\n",
       "      <td>9668</td>\n",
       "      <td>dog.8276.jpg</td>\n",
       "      <td>1</td>\n",
       "    </tr>\n",
       "    <tr>\n",
       "      <td>4044</td>\n",
       "      <td>dog.10353.jpg</td>\n",
       "      <td>1</td>\n",
       "    </tr>\n",
       "    <tr>\n",
       "      <td>3500</td>\n",
       "      <td>dog.1594.jpg</td>\n",
       "      <td>1</td>\n",
       "    </tr>\n",
       "  </tbody>\n",
       "</table>\n",
       "</div>"
      ],
      "text/plain": [
       "            filename  label\n",
       "8632     cat.112.jpg      0\n",
       "20870    dog.384.jpg      1\n",
       "2434   dog.10342.jpg      1\n",
       "2331    cat.2848.jpg      0\n",
       "20370   dog.5271.jpg      1\n",
       "3748    dog.6614.jpg      1\n",
       "1148    cat.3017.jpg      0\n",
       "9668    dog.8276.jpg      1\n",
       "4044   dog.10353.jpg      1\n",
       "3500    dog.1594.jpg      1"
      ]
     },
     "execution_count": 7,
     "metadata": {},
     "output_type": "execute_result"
    }
   ],
   "source": [
    "df = pd.DataFrame({\n",
    "    'filename': filenames,\n",
    "    'label': labels\n",
    "})\n",
    "\n",
    "df.sample(10)"
   ]
  },
  {
   "cell_type": "code",
   "execution_count": 8,
   "metadata": {},
   "outputs": [
    {
     "data": {
      "text/plain": [
       "1    12500\n",
       "0    12500\n",
       "Name: label, dtype: int64"
      ]
     },
     "execution_count": 8,
     "metadata": {},
     "output_type": "execute_result"
    }
   ],
   "source": [
    "df['label'].value_counts()"
   ]
  },
  {
   "cell_type": "markdown",
   "metadata": {},
   "source": [
    "*Nice* This makes my life waaaay easier"
   ]
  },
  {
   "cell_type": "code",
   "execution_count": 9,
   "metadata": {},
   "outputs": [
    {
     "data": {
      "text/plain": [
       "<matplotlib.axes._subplots.AxesSubplot at 0x7fe0d7b703c8>"
      ]
     },
     "execution_count": 9,
     "metadata": {},
     "output_type": "execute_result"
    },
    {
     "data": {
      "image/png": "[encoded data removed]",
      "text/plain": [
       "<Figure size 432x288 with 1 Axes>"
      ]
     },
     "metadata": {
      "needs_background": "light"
     },
     "output_type": "display_data"
    }
   ],
   "source": [
    "df['label'].value_counts().plot.bar()"
   ]
  },
  {
   "cell_type": "markdown",
   "metadata": {},
   "source": [
    "I'll make something prettier wiht seaborn later"
   ]
  },
  {
   "cell_type": "code",
   "execution_count": 10,
   "metadata": {},
   "outputs": [],
   "source": [
    "from PIL import Image"
   ]
  },
  {
   "cell_type": "markdown",
   "metadata": {},
   "source": [
    "Time to get the average image sizes for future use"
   ]
  },
  {
   "cell_type": "code",
   "execution_count": 11,
   "metadata": {},
   "outputs": [
    {
     "name": "stdout",
     "output_type": "stream",
     "text": [
      "499.0 375.0\n"
     ]
    }
   ],
   "source": [
    "width = []\n",
    "height = []\n",
    "\n",
    "for filename in filenames:\n",
    "    \n",
    "\n",
    "    \n",
    "    img_path = os.path.join(data_path, filename)\n",
    "    im = Image.open(img_path)\n",
    "    \n",
    "    w, h = im.size\n",
    "    \n",
    "    width.append(w)\n",
    "    height.append(h)\n",
    "    \n",
    "w_avg = sum(width)/len(width)\n",
    "h_avg = sum(height)/len(height)\n",
    "    \n",
    "print(w_avg, h_avg)"
   ]
  },
  {
   "cell_type": "markdown",
   "metadata": {},
   "source": [
    "PS: If you are looking over my code and re-running all of it the cell above will take a minute or two"
   ]
  },
  {
   "cell_type": "markdown",
   "metadata": {},
   "source": [
    "Now that this is done, I'll start getting the fsm ready"
   ]
  },
  {
   "cell_type": "markdown",
   "metadata": {},
   "source": [
    "## FSM"
   ]
  },
  {
   "cell_type": "markdown",
   "metadata": {},
   "source": [
    "I'm going to start small and not make a super complex model for the FSM, but I am going to try out spme new things friends have told me about"
   ]
  },
  {
   "cell_type": "markdown",
   "metadata": {},
   "source": [
    "### setup"
   ]
  },
  {
   "cell_type": "code",
   "execution_count": 62,
   "metadata": {},
   "outputs": [],
   "source": [
    "width = int(w_avg)\n",
    "height = int(h_avg)\n",
    "img_size = ((width, height))\n",
    "batch_size = 32"
   ]
  },
  {
   "cell_type": "code",
   "execution_count": 56,
   "metadata": {},
   "outputs": [],
   "source": [
    "from keras.callbacks import EarlyStopping, ReduceLROnPlateau\n",
    "\n",
    "earlystop = EarlyStopping(patience = 10)\n",
    "learning_rate_reduction = ReduceLROnPlateau(monitor='val_acc', patience=2, verbose=1, factor=0.5, min_lr=0.0001)\n",
    "\n",
    "call_backs = [earlystop, learning_rate_reduction]\n",
    "\n",
    "import tensorflow as tf\n",
    "import tensorflow.keras.preprocessing as preprocessing\n",
    "from keras.preprocessing.image import ImageDataGenerator"
   ]
  },
  {
   "cell_type": "code",
   "execution_count": 14,
   "metadata": {},
   "outputs": [],
   "source": [
    "df['label'] = df['label'].replace({0:'cat', 1:'dog'})"
   ]
  },
  {
   "cell_type": "code",
   "execution_count": 15,
   "metadata": {},
   "outputs": [],
   "source": [
    "X_t, v_t = train_test_split(df, test_size = 0.15,  random_state = 7)\n",
    "X_t = X_t.reset_index(drop = True)\n",
    "v_t = v_t.reset_index(drop=True)"
   ]
  },
  {
   "cell_type": "code",
   "execution_count": 18,
   "metadata": {},
   "outputs": [
    {
     "data": {
      "text/plain": [
       "dog    10629\n",
       "cat    10621\n",
       "Name: label, dtype: int64"
      ]
     },
     "execution_count": 18,
     "metadata": {},
     "output_type": "execute_result"
    }
   ],
   "source": [
    "X_t['label'].value_counts()"
   ]
  },
  {
   "cell_type": "code",
   "execution_count": 19,
   "metadata": {},
   "outputs": [
    {
     "data": {
      "text/plain": [
       "cat    1879\n",
       "dog    1871\n",
       "Name: label, dtype: int64"
      ]
     },
     "execution_count": 19,
     "metadata": {},
     "output_type": "execute_result"
    }
   ],
   "source": [
    "v_t['label'].value_counts()"
   ]
  },
  {
   "cell_type": "markdown",
   "metadata": {},
   "source": [
    "Close enough"
   ]
  },
  {
   "cell_type": "markdown",
   "metadata": {},
   "source": [
    "### generators"
   ]
  },
  {
   "cell_type": "code",
   "execution_count": 67,
   "metadata": {},
   "outputs": [
    {
     "name": "stdout",
     "output_type": "stream",
     "text": [
      "Found 21250 validated image filenames belonging to 2 classes.\n",
      "Found 3750 validated image filenames belonging to 2 classes.\n"
     ]
    }
   ],
   "source": [
    "img_gen = ImageDataGenerator(rescale = 1./255., horizontal_flip = True) #keeping it simple for now\n",
    "\n",
    "train_generator = img_gen.flow_from_dataframe(\n",
    "    X_t,\n",
    "    data_path,\n",
    "    x_col = 'filename',\n",
    "    y_col = 'label',\n",
    "    target_size = (499, 375),\n",
    "    batch_size = batch_size,\n",
    "    class_mode ='categorical'\n",
    ")\n",
    "\n",
    "val_img_gen = ImageDataGenerator(rescale = 1./255.) #keeping it simple for now\n",
    "\n",
    "val_generator = img_gen.flow_from_dataframe(\n",
    "    v_t,\n",
    "    data_path,\n",
    "    x_col = 'filename',\n",
    "    y_col = 'label',\n",
    "    target_size = (499, 375), #img_size, maybe this will fix the problem?\n",
    "    batch_size = batch_size,\n",
    "    class_mode ='categorical'\n",
    ")"
   ]
  },
  {
   "cell_type": "markdown",
   "metadata": {},
   "source": [
    "### model"
   ]
  },
  {
   "cell_type": "code",
   "execution_count": 48,
   "metadata": {},
   "outputs": [],
   "source": [
    "from keras.models import Sequential\n",
    "from keras.layers import Conv2D, MaxPooling2D, Dropout, Flatten, Dense, Activation, BatchNormalization\n",
    "from sklearn.model_selection import train_test_split"
   ]
  },
  {
   "cell_type": "code",
   "execution_count": 64,
   "metadata": {},
   "outputs": [
    {
     "name": "stdout",
     "output_type": "stream",
     "text": [
      "_________________________________________________________________\n",
      "Layer (type)                 Output Shape              Param #   \n",
      "=================================================================\n",
      "conv2d_11 (Conv2D)           (None, 497, 373, 32)      896       \n",
      "_________________________________________________________________\n",
      "max_pooling2d_11 (MaxPooling (None, 248, 186, 32)      0         \n",
      "_________________________________________________________________\n",
      "batch_normalization_15 (Batc (None, 248, 186, 32)      128       \n",
      "_________________________________________________________________\n",
      "dropout_15 (Dropout)         (None, 248, 186, 32)      0         \n",
      "_________________________________________________________________\n",
      "conv2d_12 (Conv2D)           (None, 246, 184, 64)      18496     \n",
      "_________________________________________________________________\n",
      "max_pooling2d_12 (MaxPooling (None, 123, 92, 64)       0         \n",
      "_________________________________________________________________\n",
      "batch_normalization_16 (Batc (None, 123, 92, 64)       256       \n",
      "_________________________________________________________________\n",
      "dropout_16 (Dropout)         (None, 123, 92, 64)       0         \n",
      "_________________________________________________________________\n",
      "conv2d_13 (Conv2D)           (None, 121, 90, 128)      73856     \n",
      "_________________________________________________________________\n",
      "max_pooling2d_13 (MaxPooling (None, 60, 45, 128)       0         \n",
      "_________________________________________________________________\n",
      "batch_normalization_17 (Batc (None, 60, 45, 128)       512       \n",
      "_________________________________________________________________\n",
      "dropout_17 (Dropout)         (None, 60, 45, 128)       0         \n",
      "_________________________________________________________________\n",
      "flatten_4 (Flatten)          (None, 345600)            0         \n",
      "_________________________________________________________________\n",
      "dense_8 (Dense)              (None, 64)                22118464  \n",
      "_________________________________________________________________\n",
      "batch_normalization_18 (Batc (None, 64)                256       \n",
      "_________________________________________________________________\n",
      "dropout_18 (Dropout)         (None, 64)                0         \n",
      "_________________________________________________________________\n",
      "dense_9 (Dense)              (None, 128)               8320      \n",
      "_________________________________________________________________\n",
      "batch_normalization_19 (Batc (None, 128)               512       \n",
      "_________________________________________________________________\n",
      "dropout_19 (Dropout)         (None, 128)               0         \n",
      "_________________________________________________________________\n",
      "dense_10 (Dense)             (None, 2)                 258       \n",
      "=================================================================\n",
      "Total params: 22,221,954\n",
      "Trainable params: 22,221,122\n",
      "Non-trainable params: 832\n",
      "_________________________________________________________________\n"
     ]
    }
   ],
   "source": [
    "from keras.models import Sequential\n",
    "from keras.layers import Conv2D, MaxPooling2D, Dropout, Flatten, Dense, Activation, BatchNormalization\n",
    "\n",
    "fsm = Sequential() \n",
    "fsm.add(Conv2D(32, (3, 3), activation = 'relu', input_shape = (width, height, 3)))#3 for rgb\n",
    "fsm.add(MaxPooling2D(pool_size=(2, 2)))\n",
    "fsm.add(BatchNormalization())\n",
    "fsm.add(Dropout(0.20))\n",
    "\n",
    "fsm.add(Conv2D(64, (3, 3), activation = 'relu'))\n",
    "fsm.add(MaxPooling2D((2, 2)))\n",
    "fsm.add(BatchNormalization())\n",
    "fsm.add(Dropout(0.20))\n",
    "\n",
    "fsm.add(Conv2D(128, (3, 3), activation = 'relu'))\n",
    "fsm.add(MaxPooling2D((2, 2)))\n",
    "fsm.add(BatchNormalization())\n",
    "fsm.add(Dropout(0.20))\n",
    "\n",
    "fsm.add(Flatten())\n",
    "fsm.add(Dense(64, activation='relu'))\n",
    "fsm.add(BatchNormalization())\n",
    "fsm.add(Dropout(0.20))\n",
    "\n",
    "fsm.add(Dense(128, activation='relu'))\n",
    "fsm.add(BatchNormalization())\n",
    "fsm.add(Dropout(0.20))\n",
    "\n",
    "fsm.add(Dense(2, activation='softmax')) #2 for cat or dog (or based or cringe)\n",
    "fsm.compile(loss='categorical_crossentropy', optimizer='rmsprop', metrics=['accuracy'])\n",
    "\n",
    "fsm.summary()"
   ]
  },
  {
   "cell_type": "code",
   "execution_count": 68,
   "metadata": {},
   "outputs": [
    {
     "name": "stdout",
     "output_type": "stream",
     "text": [
      "Epoch 1/10\n",
      "100/100 [==============================] - 1183s 12s/step - loss: 0.6860 - acc: 0.6112 - val_loss: 0.6924 - val_acc: 0.6281\n",
      "Epoch 2/10\n",
      "100/100 [==============================] - 1195s 12s/step - loss: 0.6433 - acc: 0.6431 - val_loss: 0.8046 - val_acc: 0.5703\n",
      "Epoch 3/10\n",
      "100/100 [==============================] - 1172s 12s/step - loss: 0.6042 - acc: 0.6672 - val_loss: 0.6262 - val_acc: 0.6687\n",
      "Epoch 4/10\n",
      "100/100 [==============================] - 1178s 12s/step - loss: 0.5716 - acc: 0.6991 - val_loss: 0.6149 - val_acc: 0.6375\n",
      "Epoch 5/10\n",
      "100/100 [==============================] - 1211s 12s/step - loss: 0.5667 - acc: 0.7106 - val_loss: 0.5723 - val_acc: 0.6906\n",
      "Epoch 6/10\n",
      "100/100 [==============================] - 1184s 12s/step - loss: 0.5441 - acc: 0.7244 - val_loss: 0.5065 - val_acc: 0.7345\n",
      "Epoch 7/10\n",
      "100/100 [==============================] - 1174s 12s/step - loss: 0.5537 - acc: 0.7207 - val_loss: 0.5168 - val_acc: 0.7453\n",
      "Epoch 8/10\n",
      "100/100 [==============================] - 1201s 12s/step - loss: 0.5066 - acc: 0.7531 - val_loss: 0.5941 - val_acc: 0.6828\n",
      "Epoch 9/10\n",
      "100/100 [==============================] - 1177s 12s/step - loss: 0.5245 - acc: 0.7406 - val_loss: 0.5488 - val_acc: 0.7047\n",
      "\n",
      "Epoch 00009: ReduceLROnPlateau reducing learning rate to 0.0005000000237487257.\n",
      "Epoch 10/10\n",
      "100/100 [==============================] - 1223s 12s/step - loss: 0.4881 - acc: 0.7638 - val_loss: 0.5415 - val_acc: 0.7297\n"
     ]
    }
   ],
   "source": [
    "history_fsm = fsm.fit_generator(\n",
    "    train_generator, \n",
    "    epochs = 10, #callbacks didnt wanna work, will up it should it start working\n",
    "    validation_data = val_generator,\n",
    "    validation_steps = 20,\n",
    "    steps_per_epoch = 100,\n",
    "    callbacks = call_backs #for now, didn't want to behave \n",
    ")"
   ]
  },
  {
   "cell_type": "code",
   "execution_count": 57,
   "metadata": {},
   "outputs": [],
   "source": [
    "def vis_history(history): \n",
    "    fig, ax = plt.subplots(1, 2, figsize=(15,5))\n",
    "    ax[0].set_title('loss')\n",
    "    ax[0].plot(history.epoch, history.history[\"loss\"], label=\"Train loss\")\n",
    "    ax[0].plot(history.epoch, history.history[\"val_loss\"], label=\"Validation loss\")\n",
    "    ax[1].set_title('acc')\n",
    "    ax[1].plot(history.epoch, history.history[\"acc\"], label=\"Train acc\")\n",
    "    ax[1].plot(history.epoch, history.history[\"val_acc\"], label=\"Validation acc\")\n",
    "    ax[0].legend()\n",
    "    ax[1].legend()"
   ]
  },
  {
   "cell_type": "code",
   "execution_count": 70,
   "metadata": {},
   "outputs": [
    {
     "name": "stdout",
     "output_type": "stream",
     "text": [
      "_________________________________________________________________\n",
      "Layer (type)                 Output Shape              Param #   \n",
      "=================================================================\n",
      "conv2d_14 (Conv2D)           (None, 497, 373, 32)      896       \n",
      "_________________________________________________________________\n",
      "max_pooling2d_14 (MaxPooling (None, 248, 186, 32)      0         \n",
      "_________________________________________________________________\n",
      "batch_normalization_20 (Batc (None, 248, 186, 32)      128       \n",
      "_________________________________________________________________\n",
      "dropout_20 (Dropout)         (None, 248, 186, 32)      0         \n",
      "_________________________________________________________________\n",
      "conv2d_15 (Conv2D)           (None, 246, 184, 64)      18496     \n",
      "_________________________________________________________________\n",
      "max_pooling2d_15 (MaxPooling (None, 123, 92, 64)       0         \n",
      "_________________________________________________________________\n",
      "batch_normalization_21 (Batc (None, 123, 92, 64)       256       \n",
      "_________________________________________________________________\n",
      "dropout_21 (Dropout)         (None, 123, 92, 64)       0         \n",
      "_________________________________________________________________\n",
      "conv2d_16 (Conv2D)           (None, 121, 90, 128)      73856     \n",
      "_________________________________________________________________\n",
      "max_pooling2d_16 (MaxPooling (None, 60, 45, 128)       0         \n",
      "_________________________________________________________________\n",
      "batch_normalization_22 (Batc (None, 60, 45, 128)       512       \n",
      "_________________________________________________________________\n",
      "dropout_22 (Dropout)         (None, 60, 45, 128)       0         \n",
      "_________________________________________________________________\n",
      "flatten_5 (Flatten)          (None, 345600)            0         \n",
      "_________________________________________________________________\n",
      "dense_11 (Dense)             (None, 64)                22118464  \n",
      "_________________________________________________________________\n",
      "batch_normalization_23 (Batc (None, 64)                256       \n",
      "_________________________________________________________________\n",
      "dropout_23 (Dropout)         (None, 64)                0         \n",
      "_________________________________________________________________\n",
      "dense_12 (Dense)             (None, 128)               8320      \n",
      "_________________________________________________________________\n",
      "batch_normalization_24 (Batc (None, 128)               512       \n",
      "_________________________________________________________________\n",
      "dropout_24 (Dropout)         (None, 128)               0         \n",
      "_________________________________________________________________\n",
      "dense_13 (Dense)             (None, 2)                 258       \n",
      "=================================================================\n",
      "Total params: 22,221,954\n",
      "Trainable params: 22,221,122\n",
      "Non-trainable params: 832\n",
      "_________________________________________________________________\n"
     ]
    }
   ],
   "source": [
    "fsm_ = Sequential() \n",
    "fsm_.add(Conv2D(32, (3, 3), activation = 'relu', input_shape = (width, height, 3)))#3 for rgb\n",
    "fsm_.add(MaxPooling2D(pool_size=(2, 2)))\n",
    "fsm_.add(BatchNormalization())\n",
    "fsm_.add(Dropout(0.20))\n",
    "\n",
    "fsm_.add(Conv2D(64, (3, 3), activation = 'relu'))\n",
    "fsm_.add(MaxPooling2D((2, 2)))\n",
    "fsm_.add(BatchNormalization())\n",
    "fsm_.add(Dropout(0.20))\n",
    "\n",
    "fsm_.add(Conv2D(128, (3, 3), activation = 'relu'))\n",
    "fsm_.add(MaxPooling2D((2, 2)))\n",
    "fsm_.add(BatchNormalization())\n",
    "fsm_.add(Dropout(0.20))\n",
    "\n",
    "fsm_.add(Flatten())\n",
    "fsm_.add(Dense(64, activation='relu'))\n",
    "fsm_.add(BatchNormalization())\n",
    "fsm_.add(Dropout(0.20))\n",
    "\n",
    "fsm_.add(Dense(128, activation='relu'))\n",
    "fsm_.add(BatchNormalization())\n",
    "fsm_.add(Dropout(0.20))\n",
    "\n",
    "fsm_.add(Dense(2, activation='softmax')) #2 for cat or dog (or based or cringe)\n",
    "fsm_.compile(loss='categorical_crossentropy', optimizer='rmsprop', metrics=['accuracy'])\n",
    "\n",
    "fsm_.summary()"
   ]
  },
  {
   "cell_type": "code",
   "execution_count": 71,
   "metadata": {},
   "outputs": [
    {
     "name": "stdout",
     "output_type": "stream",
     "text": [
      "Epoch 1/30\n",
      "100/100 [==============================] - 1227s 12s/step - loss: 0.8532 - acc: 0.5619 - val_loss: 0.6970 - val_acc: 0.6172\n",
      "Epoch 2/30\n",
      "100/100 [==============================] - 1171s 12s/step - loss: 0.7306 - acc: 0.5903 - val_loss: 0.7035 - val_acc: 0.5831\n",
      "Epoch 3/30\n",
      "100/100 [==============================] - 1174s 12s/step - loss: 0.6879 - acc: 0.6175 - val_loss: 0.6860 - val_acc: 0.6844\n",
      "Epoch 4/30\n",
      "100/100 [==============================] - 1199s 12s/step - loss: 0.6308 - acc: 0.6516 - val_loss: 0.6535 - val_acc: 0.6172\n",
      "Epoch 5/30\n",
      "100/100 [==============================] - 1202s 12s/step - loss: 0.6235 - acc: 0.6550 - val_loss: 0.7941 - val_acc: 0.6328\n",
      "\n",
      "Epoch 00005: ReduceLROnPlateau reducing learning rate to 0.0005000000237487257.\n",
      "Epoch 6/30\n",
      "100/100 [==============================] - 1165s 12s/step - loss: 0.5898 - acc: 0.6762 - val_loss: 0.5284 - val_acc: 0.7141\n",
      "Epoch 7/30\n",
      "100/100 [==============================] - 1167s 12s/step - loss: 0.5799 - acc: 0.6981 - val_loss: 0.5438 - val_acc: 0.7141\n",
      "Epoch 8/30\n",
      "100/100 [==============================] - 1164s 12s/step - loss: 0.5593 - acc: 0.7091 - val_loss: 0.5603 - val_acc: 0.7020\n",
      "\n",
      "Epoch 00008: ReduceLROnPlateau reducing learning rate to 0.0002500000118743628.\n",
      "Epoch 9/30\n",
      "100/100 [==============================] - 1152s 12s/step - loss: 0.5423 - acc: 0.7153 - val_loss: 0.5308 - val_acc: 0.7359\n",
      "Epoch 10/30\n",
      "100/100 [==============================] - 1207s 12s/step - loss: 0.5238 - acc: 0.7328 - val_loss: 0.5193 - val_acc: 0.7391\n",
      "Epoch 11/30\n",
      "100/100 [==============================] - 1186s 12s/step - loss: 0.5042 - acc: 0.7481 - val_loss: 0.5226 - val_acc: 0.7359\n",
      "Epoch 12/30\n",
      "100/100 [==============================] - 1145s 11s/step - loss: 0.5176 - acc: 0.7431 - val_loss: 0.5222 - val_acc: 0.7375\n",
      "\n",
      "Epoch 00012: ReduceLROnPlateau reducing learning rate to 0.0001250000059371814.\n",
      "Epoch 13/30\n",
      "100/100 [==============================] - 1158s 12s/step - loss: 0.5161 - acc: 0.7409 - val_loss: 0.4855 - val_acc: 0.7781\n",
      "Epoch 14/30\n",
      "100/100 [==============================] - 1146s 11s/step - loss: 0.5117 - acc: 0.7484 - val_loss: 0.4526 - val_acc: 0.7866\n",
      "Epoch 15/30\n",
      "100/100 [==============================] - 1126s 11s/step - loss: 0.5028 - acc: 0.7544 - val_loss: 0.5047 - val_acc: 0.7375\n",
      "Epoch 16/30\n",
      "100/100 [==============================] - 1144s 11s/step - loss: 0.4957 - acc: 0.7512 - val_loss: 0.4792 - val_acc: 0.7719\n",
      "\n",
      "Epoch 00016: ReduceLROnPlateau reducing learning rate to 0.0001.\n",
      "Epoch 17/30\n",
      "100/100 [==============================] - 1131s 11s/step - loss: 0.4713 - acc: 0.7659 - val_loss: 0.4540 - val_acc: 0.7828\n",
      "Epoch 18/30\n",
      "100/100 [==============================] - 1151s 12s/step - loss: 0.4877 - acc: 0.7584 - val_loss: 0.4788 - val_acc: 0.7703\n",
      "Epoch 19/30\n",
      "100/100 [==============================] - 1133s 11s/step - loss: 0.5052 - acc: 0.7525 - val_loss: 0.4961 - val_acc: 0.7524\n",
      "Epoch 20/30\n",
      "100/100 [==============================] - 1145s 11s/step - loss: 0.4720 - acc: 0.7597 - val_loss: 0.4960 - val_acc: 0.7594\n",
      "Epoch 21/30\n",
      "100/100 [==============================] - 1133s 11s/step - loss: 0.4609 - acc: 0.7806 - val_loss: 0.4532 - val_acc: 0.7797\n",
      "Epoch 22/30\n",
      "100/100 [==============================] - 1149s 11s/step - loss: 0.4802 - acc: 0.7578 - val_loss: 0.4637 - val_acc: 0.7797\n",
      "Epoch 23/30\n",
      "100/100 [==============================] - 1143s 11s/step - loss: 0.4718 - acc: 0.7806 - val_loss: 0.4949 - val_acc: 0.7609\n",
      "Epoch 24/30\n",
      "100/100 [==============================] - 1137s 11s/step - loss: 0.4817 - acc: 0.7778 - val_loss: 0.4453 - val_acc: 0.7906\n",
      "Epoch 25/30\n",
      "100/100 [==============================] - 1147s 11s/step - loss: 0.4574 - acc: 0.7809 - val_loss: 0.4671 - val_acc: 0.7752\n",
      "Epoch 26/30\n",
      "100/100 [==============================] - 1155s 12s/step - loss: 0.4776 - acc: 0.7756 - val_loss: 0.4694 - val_acc: 0.7750\n",
      "Epoch 27/30\n",
      "100/100 [==============================] - 1152s 12s/step - loss: 0.4690 - acc: 0.7794 - val_loss: 0.4694 - val_acc: 0.7766\n",
      "Epoch 28/30\n",
      "100/100 [==============================] - 1142s 11s/step - loss: 0.4695 - acc: 0.7781 - val_loss: 0.4441 - val_acc: 0.7922\n",
      "Epoch 29/30\n",
      "100/100 [==============================] - 1144s 11s/step - loss: 0.4440 - acc: 0.7887 - val_loss: 0.4856 - val_acc: 0.7469\n",
      "Epoch 30/30\n",
      "100/100 [==============================] - 1142s 11s/step - loss: 0.4503 - acc: 0.7894 - val_loss: 0.4394 - val_acc: 0.7812\n"
     ]
    }
   ],
   "source": [
    "history_fsm_ = fsm_.fit_generator(\n",
    "    train_generator, \n",
    "    epochs = 30, #callbacks now working\n",
    "    validation_data = val_generator,\n",
    "    validation_steps = 20,\n",
    "    steps_per_epoch = 100,\n",
    "    callbacks = call_backs \n",
    ")"
   ]
  },
  {
   "cell_type": "code",
   "execution_count": 72,
   "metadata": {},
   "outputs": [
    {
     "data": {
      "image/png": "[encoded data removed]",
      "text/plain": [
       "<Figure size 1080x360 with 2 Axes>"
      ]
     },
     "metadata": {
      "needs_background": "light"
     },
     "output_type": "display_data"
    }
   ],
   "source": [
    "vis_history(history_fsm_)"
   ]
  },
  {
   "cell_type": "markdown",
   "metadata": {},
   "source": [
    "That went great! Time to make it better. Looks like it could use even more epochs, I'll also play around with the layers more."
   ]
  },
  {
   "cell_type": "code",
   "execution_count": null,
   "metadata": {},
   "outputs": [],
   "source": []
  }
 ],
 "metadata": {
  "kernelspec": {
   "display_name": "learn-env",
   "language": "python",
   "name": "learn-env"
  },
  "language_info": {
   "codemirror_mode": {
    "name": "ipython",
    "version": 3
   },
   "file_extension": ".py",
   "mimetype": "text/x-python",
   "name": "python",
   "nbconvert_exporter": "python",
   "pygments_lexer": "ipython3",
   "version": "3.6.9"
  }
 },
 "nbformat": 4,
 "nbformat_minor": 4
}

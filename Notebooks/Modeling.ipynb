{
 "cells": [
  {
   "cell_type": "markdown",
   "metadata": {},
   "source": [
    "## Imports + data_prep"
   ]
  },
  {
   "cell_type": "code",
   "execution_count": 1,
   "metadata": {},
   "outputs": [
    {
     "name": "stderr",
     "output_type": "stream",
     "text": [
      "Using TensorFlow backend.\n"
     ]
    }
   ],
   "source": [
    "import numpy as np\n",
    "import pandas as pd \n",
    "import matplotlib.pyplot as plt\n",
    "import random\n",
    "import os\n",
    "import seaborn as sns\n",
    "from PIL import Image\n",
    "\n",
    "#keras imports\n",
    "from keras.callbacks import EarlyStopping, ReduceLROnPlateau\n",
    "import tensorflow as tf\n",
    "import tensorflow.keras.preprocessing as preprocessing\n",
    "from keras.preprocessing.image import ImageDataGenerator\n",
    "\n",
    "from keras.models import Sequential\n",
    "from keras.layers import Conv2D, MaxPooling2D, Dropout, Flatten, Dense, Activation, BatchNormalization\n",
    "from sklearn.model_selection import train_test_split"
   ]
  },
  {
   "cell_type": "code",
   "execution_count": 2,
   "metadata": {},
   "outputs": [],
   "source": [
    "from src import data_prep"
   ]
  },
  {
   "cell_type": "code",
   "execution_count": 3,
   "metadata": {},
   "outputs": [
    {
     "data": {
      "text/html": [
       "<div>\n",
       "<style scoped>\n",
       "    .dataframe tbody tr th:only-of-type {\n",
       "        vertical-align: middle;\n",
       "    }\n",
       "\n",
       "    .dataframe tbody tr th {\n",
       "        vertical-align: top;\n",
       "    }\n",
       "\n",
       "    .dataframe thead th {\n",
       "        text-align: right;\n",
       "    }\n",
       "</style>\n",
       "<table border=\"1\" class=\"dataframe\">\n",
       "  <thead>\n",
       "    <tr style=\"text-align: right;\">\n",
       "      <th></th>\n",
       "      <th>filename</th>\n",
       "      <th>label</th>\n",
       "    </tr>\n",
       "  </thead>\n",
       "  <tbody>\n",
       "    <tr>\n",
       "      <td>9712</td>\n",
       "      <td>cat.2580.jpg</td>\n",
       "      <td>cat</td>\n",
       "    </tr>\n",
       "    <tr>\n",
       "      <td>4973</td>\n",
       "      <td>dog.10769.jpg</td>\n",
       "      <td>dog</td>\n",
       "    </tr>\n",
       "    <tr>\n",
       "      <td>10125</td>\n",
       "      <td>dog.90.jpg</td>\n",
       "      <td>dog</td>\n",
       "    </tr>\n",
       "    <tr>\n",
       "      <td>2385</td>\n",
       "      <td>dog.818.jpg</td>\n",
       "      <td>dog</td>\n",
       "    </tr>\n",
       "    <tr>\n",
       "      <td>24899</td>\n",
       "      <td>dog.11655.jpg</td>\n",
       "      <td>dog</td>\n",
       "    </tr>\n",
       "    <tr>\n",
       "      <td>16783</td>\n",
       "      <td>dog.9766.jpg</td>\n",
       "      <td>dog</td>\n",
       "    </tr>\n",
       "    <tr>\n",
       "      <td>1221</td>\n",
       "      <td>cat.11931.jpg</td>\n",
       "      <td>cat</td>\n",
       "    </tr>\n",
       "    <tr>\n",
       "      <td>13999</td>\n",
       "      <td>cat.11556.jpg</td>\n",
       "      <td>cat</td>\n",
       "    </tr>\n",
       "    <tr>\n",
       "      <td>17422</td>\n",
       "      <td>cat.7419.jpg</td>\n",
       "      <td>cat</td>\n",
       "    </tr>\n",
       "    <tr>\n",
       "      <td>21621</td>\n",
       "      <td>dog.5714.jpg</td>\n",
       "      <td>dog</td>\n",
       "    </tr>\n",
       "  </tbody>\n",
       "</table>\n",
       "</div>"
      ],
      "text/plain": [
       "            filename label\n",
       "9712    cat.2580.jpg   cat\n",
       "4973   dog.10769.jpg   dog\n",
       "10125     dog.90.jpg   dog\n",
       "2385     dog.818.jpg   dog\n",
       "24899  dog.11655.jpg   dog\n",
       "16783   dog.9766.jpg   dog\n",
       "1221   cat.11931.jpg   cat\n",
       "13999  cat.11556.jpg   cat\n",
       "17422   cat.7419.jpg   cat\n",
       "21621   dog.5714.jpg   dog"
      ]
     },
     "execution_count": 3,
     "metadata": {},
     "output_type": "execute_result"
    }
   ],
   "source": [
    "df = data_prep()\n",
    "df.sample(10)"
   ]
  },
  {
   "cell_type": "markdown",
   "metadata": {},
   "source": [
    "## Modeling"
   ]
  },
  {
   "cell_type": "markdown",
   "metadata": {},
   "source": [
    "### revised EDA"
   ]
  },
  {
   "cell_type": "markdown",
   "metadata": {},
   "source": [
    "I messed up the code I used to get the average image size by including the width and height lists within the for loop, resetting them each time and only using the last image's dimensions. "
   ]
  },
  {
   "cell_type": "code",
   "execution_count": 7,
   "metadata": {},
   "outputs": [
    {
     "name": "stdout",
     "output_type": "stream",
     "text": [
      "404 360\n"
     ]
    }
   ],
   "source": [
    "width = []#these guys should have been here\n",
    "height = [] \n",
    "data_path = '../Data/train'    \n",
    "filenames = os.listdir(data_path)\n",
    "\n",
    "for filename in filenames:\n",
    "    \n",
    "    img_path = os.path.join(data_path, filename)\n",
    "    im = Image.open(img_path)\n",
    "    \n",
    "    w, h = im.size\n",
    "    \n",
    "    width.append(w)\n",
    "    height.append(h)\n",
    "    \n",
    "w_avg = sum(width)/len(width)\n",
    "h_avg = sum(height)/len(height)\n",
    "    \n",
    "width = int(w_avg)\n",
    "height = int(h_avg)\n",
    "img_size = (width, height)\n",
    "\n",
    "print(width, height)"
   ]
  },
  {
   "cell_type": "code",
   "execution_count": 13,
   "metadata": {},
   "outputs": [],
   "source": [
    "batch_size = 32"
   ]
  },
  {
   "cell_type": "code",
   "execution_count": 9,
   "metadata": {},
   "outputs": [],
   "source": [
    "earlystop = EarlyStopping(patience = 10)\n",
    "learning_rate_reduction = ReduceLROnPlateau(monitor='val_acc', patience=2, verbose=1, factor=0.5, min_lr=0.0001)\n",
    "\n",
    "call_backs = [earlystop, learning_rate_reduction]"
   ]
  },
  {
   "cell_type": "code",
   "execution_count": 11,
   "metadata": {},
   "outputs": [],
   "source": [
    "X_t, v_t = train_test_split(df, test_size = 0.15,  random_state = 7)\n",
    "X_t = X_t.reset_index(drop = True)\n",
    "v_t = v_t.reset_index(drop=True)"
   ]
  },
  {
   "cell_type": "code",
   "execution_count": 14,
   "metadata": {},
   "outputs": [
    {
     "name": "stdout",
     "output_type": "stream",
     "text": [
      "Found 21250 validated image filenames belonging to 2 classes.\n",
      "Found 3750 validated image filenames belonging to 2 classes.\n"
     ]
    }
   ],
   "source": [
    "img_gen = ImageDataGenerator(rescale = 1./255., horizontal_flip = True)\n",
    "\n",
    "train_generator = img_gen.flow_from_dataframe(\n",
    "    X_t,\n",
    "    data_path,\n",
    "    x_col = 'filename',\n",
    "    y_col = 'label',\n",
    "    target_size = img_size,\n",
    "    batch_size = batch_size,\n",
    "    class_mode ='categorical'\n",
    ")\n",
    "\n",
    "val_img_gen = ImageDataGenerator(rescale = 1./255.)\n",
    "\n",
    "val_generator = img_gen.flow_from_dataframe(\n",
    "    v_t,\n",
    "    data_path,\n",
    "    x_col = 'filename',\n",
    "    y_col = 'label',\n",
    "    target_size = img_size,\n",
    "    batch_size = batch_size,\n",
    "    class_mode ='categorical'\n",
    ")\n",
    "\n"
   ]
  },
  {
   "cell_type": "code",
   "execution_count": 15,
   "metadata": {},
   "outputs": [
    {
     "name": "stdout",
     "output_type": "stream",
     "text": [
      "_________________________________________________________________\n",
      "Layer (type)                 Output Shape              Param #   \n",
      "=================================================================\n",
      "conv2d_5 (Conv2D)            (None, 402, 358, 32)      896       \n",
      "_________________________________________________________________\n",
      "max_pooling2d_5 (MaxPooling2 (None, 201, 179, 32)      0         \n",
      "_________________________________________________________________\n",
      "batch_normalization_7 (Batch (None, 201, 179, 32)      128       \n",
      "_________________________________________________________________\n",
      "dropout_7 (Dropout)          (None, 201, 179, 32)      0         \n",
      "_________________________________________________________________\n",
      "conv2d_6 (Conv2D)            (None, 199, 177, 64)      18496     \n",
      "_________________________________________________________________\n",
      "max_pooling2d_6 (MaxPooling2 (None, 99, 88, 64)        0         \n",
      "_________________________________________________________________\n",
      "batch_normalization_8 (Batch (None, 99, 88, 64)        256       \n",
      "_________________________________________________________________\n",
      "dropout_8 (Dropout)          (None, 99, 88, 64)        0         \n",
      "_________________________________________________________________\n",
      "conv2d_7 (Conv2D)            (None, 97, 86, 128)       73856     \n",
      "_________________________________________________________________\n",
      "max_pooling2d_7 (MaxPooling2 (None, 48, 43, 128)       0         \n",
      "_________________________________________________________________\n",
      "batch_normalization_9 (Batch (None, 48, 43, 128)       512       \n",
      "_________________________________________________________________\n",
      "dropout_9 (Dropout)          (None, 48, 43, 128)       0         \n",
      "_________________________________________________________________\n",
      "conv2d_8 (Conv2D)            (None, 46, 41, 256)       295168    \n",
      "_________________________________________________________________\n",
      "max_pooling2d_8 (MaxPooling2 (None, 23, 20, 256)       0         \n",
      "_________________________________________________________________\n",
      "batch_normalization_10 (Batc (None, 23, 20, 256)       1024      \n",
      "_________________________________________________________________\n",
      "dropout_10 (Dropout)         (None, 23, 20, 256)       0         \n",
      "_________________________________________________________________\n",
      "flatten_2 (Flatten)          (None, 117760)            0         \n",
      "_________________________________________________________________\n",
      "dense_4 (Dense)              (None, 128)               15073408  \n",
      "_________________________________________________________________\n",
      "batch_normalization_11 (Batc (None, 128)               512       \n",
      "_________________________________________________________________\n",
      "dropout_11 (Dropout)         (None, 128)               0         \n",
      "_________________________________________________________________\n",
      "dense_5 (Dense)              (None, 256)               33024     \n",
      "_________________________________________________________________\n",
      "batch_normalization_12 (Batc (None, 256)               1024      \n",
      "_________________________________________________________________\n",
      "dropout_12 (Dropout)         (None, 256)               0         \n",
      "_________________________________________________________________\n",
      "dense_6 (Dense)              (None, 2)                 514       \n",
      "=================================================================\n",
      "Total params: 15,498,818\n",
      "Trainable params: 15,497,090\n",
      "Non-trainable params: 1,728\n",
      "_________________________________________________________________\n"
     ]
    }
   ],
   "source": [
    "alpha = Sequential() \n",
    "alpha.add(Conv2D(32, (3, 3), activation = 'relu', input_shape = (width, height, 3)))#3 for rgb\n",
    "alpha.add(MaxPooling2D(pool_size=(2, 2)))\n",
    "alpha.add(BatchNormalization())\n",
    "alpha.add(Dropout(0.20))\n",
    "\n",
    "alpha.add(Conv2D(64, (3, 3), activation = 'relu'))\n",
    "alpha.add(MaxPooling2D((2, 2)))\n",
    "alpha.add(BatchNormalization())\n",
    "alpha.add(Dropout(0.20))\n",
    "\n",
    "alpha.add(Conv2D(128, (3, 3), activation = 'relu'))\n",
    "alpha.add(MaxPooling2D((2, 2)))\n",
    "alpha.add(BatchNormalization())\n",
    "alpha.add(Dropout(0.20))\n",
    "\n",
    "alpha.add(Conv2D(256, (3, 3), activation = 'relu'))\n",
    "alpha.add(MaxPooling2D((2, 2)))\n",
    "alpha.add(BatchNormalization())\n",
    "alpha.add(Dropout(0.20))\n",
    "\n",
    "alpha.add(Flatten())\n",
    "alpha.add(Dense(128, activation='relu'))\n",
    "alpha.add(BatchNormalization())\n",
    "alpha.add(Dropout(0.20))\n",
    "\n",
    "alpha.add(Dense(256, activation='relu'))\n",
    "alpha.add(BatchNormalization())\n",
    "alpha.add(Dropout(0.20))\n",
    "\n",
    "alpha.add(Dense(2, activation='softmax')) #2 for cat or dog\n",
    "alpha.compile(loss='categorical_crossentropy', optimizer='rmsprop', metrics=['accuracy'])\n",
    "\n",
    "alpha.summary()"
   ]
  },
  {
   "cell_type": "code",
   "execution_count": 16,
   "metadata": {},
   "outputs": [
    {
     "name": "stderr",
     "output_type": "stream",
     "text": [
      "W1107 13:52:00.691391 4607008192 deprecation.py:323] From /Users/adamroth/opt/anaconda3/envs/learn-env/lib/python3.6/site-packages/tensorflow/python/ops/math_grad.py:1250: add_dispatch_support.<locals>.wrapper (from tensorflow.python.ops.array_ops) is deprecated and will be removed in a future version.\n",
      "Instructions for updating:\n",
      "Use tf.where in 2.0, which has the same broadcast rule as np.where\n"
     ]
    },
    {
     "name": "stdout",
     "output_type": "stream",
     "text": [
      "Epoch 1/50\n",
      "100/100 [==============================] - 1055s 11s/step - loss: 0.8922 - acc: 0.5544 - val_loss: 1.4248 - val_acc: 0.6141\n",
      "Epoch 2/50\n",
      "100/100 [==============================] - 998s 10s/step - loss: 0.7365 - acc: 0.6075 - val_loss: 1.0304 - val_acc: 0.5953\n",
      "Epoch 3/50\n",
      "100/100 [==============================] - 1034s 10s/step - loss: 0.7086 - acc: 0.6125 - val_loss: 0.7335 - val_acc: 0.5750\n",
      "\n",
      "Epoch 00003: ReduceLROnPlateau reducing learning rate to 0.0005000000237487257.\n",
      "Epoch 4/50\n",
      "100/100 [==============================] - 1035s 10s/step - loss: 0.6407 - acc: 0.6572 - val_loss: 0.5989 - val_acc: 0.6719\n",
      "Epoch 5/50\n",
      "100/100 [==============================] - 1017s 10s/step - loss: 0.5963 - acc: 0.6900 - val_loss: 0.5931 - val_acc: 0.6609\n",
      "Epoch 6/50\n",
      "100/100 [==============================] - 1006s 10s/step - loss: 0.5912 - acc: 0.6950 - val_loss: 0.5782 - val_acc: 0.6938\n",
      "Epoch 7/50\n",
      "100/100 [==============================] - 978s 10s/step - loss: 0.5935 - acc: 0.6937 - val_loss: 0.5518 - val_acc: 0.6875\n",
      "Epoch 8/50\n",
      "100/100 [==============================] - 989s 10s/step - loss: 0.5616 - acc: 0.7109 - val_loss: 0.5015 - val_acc: 0.7312\n",
      "Epoch 9/50\n",
      "100/100 [==============================] - 982s 10s/step - loss: 0.5550 - acc: 0.7241 - val_loss: 0.5418 - val_acc: 0.7234\n",
      "Epoch 10/50\n",
      "100/100 [==============================] - 1009s 10s/step - loss: 0.5314 - acc: 0.7338 - val_loss: 0.5705 - val_acc: 0.6969\n",
      "\n",
      "Epoch 00010: ReduceLROnPlateau reducing learning rate to 0.0002500000118743628.\n",
      "Epoch 11/50\n",
      "100/100 [==============================] - 986s 10s/step - loss: 0.5020 - acc: 0.7603 - val_loss: 0.5032 - val_acc: 0.7484\n",
      "Epoch 12/50\n",
      "100/100 [==============================] - 1004s 10s/step - loss: 0.4986 - acc: 0.7597 - val_loss: 0.4840 - val_acc: 0.7720\n",
      "Epoch 13/50\n",
      "100/100 [==============================] - 991s 10s/step - loss: 0.5002 - acc: 0.7647 - val_loss: 0.5310 - val_acc: 0.7359\n",
      "Epoch 14/50\n",
      "100/100 [==============================] - 976s 10s/step - loss: 0.4896 - acc: 0.7591 - val_loss: 0.4840 - val_acc: 0.7656\n",
      "\n",
      "Epoch 00014: ReduceLROnPlateau reducing learning rate to 0.0001250000059371814.\n",
      "Epoch 15/50\n",
      "100/100 [==============================] - 1036s 10s/step - loss: 0.4632 - acc: 0.7788 - val_loss: 0.4812 - val_acc: 0.7609\n",
      "Epoch 16/50\n",
      "100/100 [==============================] - 1039s 10s/step - loss: 0.4433 - acc: 0.7947 - val_loss: 0.4442 - val_acc: 0.7953\n",
      "Epoch 17/50\n",
      "100/100 [==============================] - 1010s 10s/step - loss: 0.4630 - acc: 0.7822 - val_loss: 0.4243 - val_acc: 0.8078\n",
      "Epoch 18/50\n",
      "100/100 [==============================] - 1007s 10s/step - loss: 0.4524 - acc: 0.7878 - val_loss: 0.4153 - val_acc: 0.8127\n",
      "Epoch 19/50\n",
      "100/100 [==============================] - 1009s 10s/step - loss: 0.4550 - acc: 0.7872 - val_loss: 0.4355 - val_acc: 0.7812\n",
      "Epoch 20/50\n",
      "100/100 [==============================] - 984s 10s/step - loss: 0.4495 - acc: 0.7888 - val_loss: 0.4172 - val_acc: 0.8047\n",
      "\n",
      "Epoch 00020: ReduceLROnPlateau reducing learning rate to 0.0001.\n",
      "Epoch 21/50\n",
      "100/100 [==============================] - 985s 10s/step - loss: 0.4303 - acc: 0.8066 - val_loss: 0.4890 - val_acc: 0.7719\n",
      "Epoch 22/50\n",
      "100/100 [==============================] - 1011s 10s/step - loss: 0.4286 - acc: 0.8006 - val_loss: 0.4224 - val_acc: 0.7906\n",
      "Epoch 23/50\n",
      "100/100 [==============================] - 991s 10s/step - loss: 0.4196 - acc: 0.8044 - val_loss: 0.4369 - val_acc: 0.7906\n",
      "Epoch 24/50\n",
      "100/100 [==============================] - 994s 10s/step - loss: 0.4311 - acc: 0.8091 - val_loss: 0.4317 - val_acc: 0.7980\n",
      "Epoch 25/50\n",
      "100/100 [==============================] - 992s 10s/step - loss: 0.4336 - acc: 0.7987 - val_loss: 0.4143 - val_acc: 0.8000\n",
      "Epoch 26/50\n",
      "100/100 [==============================] - 993s 10s/step - loss: 0.4049 - acc: 0.8150 - val_loss: 0.4697 - val_acc: 0.7656\n",
      "Epoch 27/50\n",
      "100/100 [==============================] - 997s 10s/step - loss: 0.4379 - acc: 0.7944 - val_loss: 0.4009 - val_acc: 0.8125\n",
      "Epoch 28/50\n",
      "100/100 [==============================] - 1003s 10s/step - loss: 0.4141 - acc: 0.8103 - val_loss: 0.4196 - val_acc: 0.8203\n",
      "Epoch 29/50\n",
      "100/100 [==============================] - 978s 10s/step - loss: 0.4045 - acc: 0.8150 - val_loss: 0.4457 - val_acc: 0.8063\n",
      "Epoch 30/50\n",
      "100/100 [==============================] - 997s 10s/step - loss: 0.4123 - acc: 0.8128 - val_loss: 0.4380 - val_acc: 0.7899\n",
      "Epoch 31/50\n",
      "100/100 [==============================] - 995s 10s/step - loss: 0.4147 - acc: 0.8072 - val_loss: 0.3969 - val_acc: 0.8203\n",
      "Epoch 32/50\n",
      "100/100 [==============================] - 987s 10s/step - loss: 0.3966 - acc: 0.8213 - val_loss: 0.4031 - val_acc: 0.8172\n",
      "Epoch 33/50\n",
      "100/100 [==============================] - 992s 10s/step - loss: 0.3816 - acc: 0.8259 - val_loss: 0.3991 - val_acc: 0.8359\n",
      "Epoch 34/50\n",
      "100/100 [==============================] - 987s 10s/step - loss: 0.4080 - acc: 0.8041 - val_loss: 0.3825 - val_acc: 0.8172\n",
      "Epoch 35/50\n",
      "100/100 [==============================] - 997s 10s/step - loss: 0.3962 - acc: 0.8225 - val_loss: 0.4993 - val_acc: 0.7578\n",
      "Epoch 36/50\n",
      "100/100 [==============================] - 985s 10s/step - loss: 0.3931 - acc: 0.8247 - val_loss: 0.4075 - val_acc: 0.8225\n",
      "Epoch 37/50\n",
      "100/100 [==============================] - 999s 10s/step - loss: 0.4038 - acc: 0.8247 - val_loss: 0.4239 - val_acc: 0.7969\n",
      "Epoch 38/50\n",
      "100/100 [==============================] - 988s 10s/step - loss: 0.3794 - acc: 0.8294 - val_loss: 0.4534 - val_acc: 0.7797\n",
      "Epoch 39/50\n",
      "100/100 [==============================] - 1002s 10s/step - loss: 0.3963 - acc: 0.8234 - val_loss: 0.4100 - val_acc: 0.8172\n",
      "Epoch 40/50\n",
      "100/100 [==============================] - 986s 10s/step - loss: 0.3873 - acc: 0.8315 - val_loss: 0.3907 - val_acc: 0.8234\n",
      "Epoch 41/50\n",
      "100/100 [==============================] - 982s 10s/step - loss: 0.3693 - acc: 0.8400 - val_loss: 0.3782 - val_acc: 0.8266\n",
      "Epoch 42/50\n",
      "100/100 [==============================] - 981s 10s/step - loss: 0.3592 - acc: 0.8413 - val_loss: 0.4690 - val_acc: 0.7818\n",
      "Epoch 43/50\n",
      "100/100 [==============================] - 972s 10s/step - loss: 0.3836 - acc: 0.8287 - val_loss: 0.3974 - val_acc: 0.8187\n",
      "Epoch 44/50\n",
      "100/100 [==============================] - 983s 10s/step - loss: 0.3722 - acc: 0.8266 - val_loss: 0.4314 - val_acc: 0.8078\n",
      "Epoch 45/50\n",
      "100/100 [==============================] - 966s 10s/step - loss: 0.3802 - acc: 0.8275 - val_loss: 0.7138 - val_acc: 0.6922\n",
      "Epoch 46/50\n",
      "100/100 [==============================] - 969s 10s/step - loss: 0.3593 - acc: 0.8394 - val_loss: 0.4196 - val_acc: 0.8125\n",
      "Epoch 47/50\n",
      "100/100 [==============================] - 963s 10s/step - loss: 0.3561 - acc: 0.8359 - val_loss: 0.3699 - val_acc: 0.8438\n",
      "Epoch 48/50\n",
      "100/100 [==============================] - 987s 10s/step - loss: 0.3628 - acc: 0.8425 - val_loss: 0.4204 - val_acc: 0.8208\n",
      "Epoch 49/50\n",
      "100/100 [==============================] - 970s 10s/step - loss: 0.3318 - acc: 0.8575 - val_loss: 0.4598 - val_acc: 0.7875\n",
      "Epoch 50/50\n",
      "100/100 [==============================] - 972s 10s/step - loss: 0.3415 - acc: 0.8466 - val_loss: 0.3737 - val_acc: 0.8344\n"
     ]
    }
   ],
   "source": [
    "history_alpha = alpha.fit_generator(\n",
    "    train_generator, \n",
    "    epochs = 50,\n",
    "    validation_data = val_generator,\n",
    "    validation_steps = 20,\n",
    "    steps_per_epoch = 100,\n",
    "    callbacks = call_backs  \n",
    ")"
   ]
  },
  {
   "cell_type": "code",
   "execution_count": 19,
   "metadata": {},
   "outputs": [
    {
     "data": {
      "image/png": "[encoded data removed]",
      "text/plain": [
       "<Figure size 1080x360 with 2 Axes>"
      ]
     },
     "metadata": {
      "needs_background": "light"
     },
     "output_type": "display_data"
    }
   ],
   "source": [
    "vis_history(history_alpha)"
   ]
  },
  {
   "cell_type": "code",
   "execution_count": 18,
   "metadata": {},
   "outputs": [],
   "source": [
    "def vis_history(history): \n",
    "    fig, ax = plt.subplots(1, 2, figsize=(15,5))\n",
    "    ax[0].set_title('loss')\n",
    "    ax[0].plot(history.epoch, history.history[\"loss\"], label=\"Train loss\")\n",
    "    ax[0].plot(history.epoch, history.history[\"val_loss\"], label=\"Validation loss\")\n",
    "    ax[1].set_title('acc')\n",
    "    ax[1].plot(history.epoch, history.history[\"acc\"], label=\"Train acc\")\n",
    "    ax[1].plot(history.epoch, history.history[\"val_acc\"], label=\"Validation acc\")\n",
    "    ax[0].legend()\n",
    "    ax[1].legend()"
   ]
  },
  {
   "cell_type": "markdown",
   "metadata": {},
   "source": [
    "Looks like it can go even longer, so I'll run even more epochs in the next model, beta. I do not plan on making any more changes to the model framework itself untill the callback shuts it down before the epochs are done."
   ]
  },
  {
   "cell_type": "code",
   "execution_count": 20,
   "metadata": {},
   "outputs": [
    {
     "name": "stdout",
     "output_type": "stream",
     "text": [
      "_________________________________________________________________\n",
      "Layer (type)                 Output Shape              Param #   \n",
      "=================================================================\n",
      "conv2d_9 (Conv2D)            (None, 402, 358, 32)      896       \n",
      "_________________________________________________________________\n",
      "max_pooling2d_9 (MaxPooling2 (None, 201, 179, 32)      0         \n",
      "_________________________________________________________________\n",
      "batch_normalization_13 (Batc (None, 201, 179, 32)      128       \n",
      "_________________________________________________________________\n",
      "dropout_13 (Dropout)         (None, 201, 179, 32)      0         \n",
      "_________________________________________________________________\n",
      "conv2d_10 (Conv2D)           (None, 199, 177, 64)      18496     \n",
      "_________________________________________________________________\n",
      "max_pooling2d_10 (MaxPooling (None, 99, 88, 64)        0         \n",
      "_________________________________________________________________\n",
      "batch_normalization_14 (Batc (None, 99, 88, 64)        256       \n",
      "_________________________________________________________________\n",
      "dropout_14 (Dropout)         (None, 99, 88, 64)        0         \n",
      "_________________________________________________________________\n",
      "conv2d_11 (Conv2D)           (None, 97, 86, 128)       73856     \n",
      "_________________________________________________________________\n",
      "max_pooling2d_11 (MaxPooling (None, 48, 43, 128)       0         \n",
      "_________________________________________________________________\n",
      "batch_normalization_15 (Batc (None, 48, 43, 128)       512       \n",
      "_________________________________________________________________\n",
      "dropout_15 (Dropout)         (None, 48, 43, 128)       0         \n",
      "_________________________________________________________________\n",
      "conv2d_12 (Conv2D)           (None, 46, 41, 256)       295168    \n",
      "_________________________________________________________________\n",
      "max_pooling2d_12 (MaxPooling (None, 23, 20, 256)       0         \n",
      "_________________________________________________________________\n",
      "batch_normalization_16 (Batc (None, 23, 20, 256)       1024      \n",
      "_________________________________________________________________\n",
      "dropout_16 (Dropout)         (None, 23, 20, 256)       0         \n",
      "_________________________________________________________________\n",
      "flatten_3 (Flatten)          (None, 117760)            0         \n",
      "_________________________________________________________________\n",
      "dense_7 (Dense)              (None, 128)               15073408  \n",
      "_________________________________________________________________\n",
      "batch_normalization_17 (Batc (None, 128)               512       \n",
      "_________________________________________________________________\n",
      "dropout_17 (Dropout)         (None, 128)               0         \n",
      "_________________________________________________________________\n",
      "dense_8 (Dense)              (None, 256)               33024     \n",
      "_________________________________________________________________\n",
      "batch_normalization_18 (Batc (None, 256)               1024      \n",
      "_________________________________________________________________\n",
      "dropout_18 (Dropout)         (None, 256)               0         \n",
      "_________________________________________________________________\n",
      "dense_9 (Dense)              (None, 2)                 514       \n",
      "=================================================================\n",
      "Total params: 15,498,818\n",
      "Trainable params: 15,497,090\n",
      "Non-trainable params: 1,728\n",
      "_________________________________________________________________\n"
     ]
    }
   ],
   "source": [
    "beta = Sequential() \n",
    "beta.add(Conv2D(32, (3, 3), activation = 'relu', input_shape = (width, height, 3)))#3 for rgb\n",
    "beta.add(MaxPooling2D(pool_size=(2, 2)))\n",
    "beta.add(BatchNormalization())\n",
    "beta.add(Dropout(0.20))\n",
    "\n",
    "beta.add(Conv2D(64, (3, 3), activation = 'relu'))\n",
    "beta.add(MaxPooling2D((2, 2)))\n",
    "beta.add(BatchNormalization())\n",
    "beta.add(Dropout(0.20))\n",
    "\n",
    "beta.add(Conv2D(128, (3, 3), activation = 'relu'))\n",
    "beta.add(MaxPooling2D((2, 2)))\n",
    "beta.add(BatchNormalization())\n",
    "beta.add(Dropout(0.20))\n",
    "\n",
    "beta.add(Conv2D(256, (3, 3), activation = 'relu'))\n",
    "beta.add(MaxPooling2D((2, 2)))\n",
    "beta.add(BatchNormalization())\n",
    "beta.add(Dropout(0.20))\n",
    "\n",
    "beta.add(Flatten())\n",
    "beta.add(Dense(128, activation='relu'))\n",
    "beta.add(BatchNormalization())\n",
    "beta.add(Dropout(0.20))\n",
    "\n",
    "beta.add(Dense(256, activation='relu'))\n",
    "beta.add(BatchNormalization())\n",
    "beta.add(Dropout(0.20))\n",
    "\n",
    "beta.add(Dense(2, activation='softmax')) #2 for cat or dog\n",
    "beta.compile(loss='categorical_crossentropy', optimizer='rmsprop', metrics=['accuracy'])\n",
    "\n",
    "beta.summary()"
   ]
  },
  {
   "cell_type": "code",
   "execution_count": 21,
   "metadata": {},
   "outputs": [
    {
     "name": "stdout",
     "output_type": "stream",
     "text": [
      "Epoch 1/100\n",
      "100/100 [==============================] - 1034s 10s/step - loss: 0.8717 - acc: 0.5669 - val_loss: 0.6969 - val_acc: 0.5891\n",
      "Epoch 2/100\n",
      "100/100 [==============================] - 1017s 10s/step - loss: 0.7376 - acc: 0.6012 - val_loss: 1.4339 - val_acc: 0.6047\n",
      "Epoch 3/100\n",
      "100/100 [==============================] - 995s 10s/step - loss: 0.6877 - acc: 0.6128 - val_loss: 1.5565 - val_acc: 0.5130\n",
      "Epoch 4/100\n",
      "100/100 [==============================] - 990s 10s/step - loss: 0.6553 - acc: 0.6391 - val_loss: 0.7426 - val_acc: 0.5766\n",
      "\n",
      "Epoch 00004: ReduceLROnPlateau reducing learning rate to 0.0005000000237487257.\n",
      "Epoch 5/100\n",
      "100/100 [==============================] - 997s 10s/step - loss: 0.6238 - acc: 0.6531 - val_loss: 0.6617 - val_acc: 0.6312\n",
      "Epoch 6/100\n",
      "100/100 [==============================] - 1012s 10s/step - loss: 0.5668 - acc: 0.7053 - val_loss: 0.5383 - val_acc: 0.7094\n",
      "Epoch 7/100\n",
      "100/100 [==============================] - 1002s 10s/step - loss: 0.5536 - acc: 0.7197 - val_loss: 0.5267 - val_acc: 0.7281\n",
      "Epoch 8/100\n",
      "100/100 [==============================] - 1018s 10s/step - loss: 0.5431 - acc: 0.7238 - val_loss: 0.5051 - val_acc: 0.7359\n",
      "Epoch 9/100\n",
      "100/100 [==============================] - 1013s 10s/step - loss: 0.5266 - acc: 0.7341 - val_loss: 0.5114 - val_acc: 0.7443\n",
      "Epoch 10/100\n",
      "100/100 [==============================] - 1002s 10s/step - loss: 0.5304 - acc: 0.7447 - val_loss: 0.5690 - val_acc: 0.7141\n",
      "Epoch 11/100\n",
      "100/100 [==============================] - 988s 10s/step - loss: 0.5216 - acc: 0.7381 - val_loss: 0.5752 - val_acc: 0.6891\n",
      "\n",
      "Epoch 00011: ReduceLROnPlateau reducing learning rate to 0.0002500000118743628.\n",
      "Epoch 12/100\n",
      "100/100 [==============================] - 1001s 10s/step - loss: 0.4629 - acc: 0.7722 - val_loss: 0.4861 - val_acc: 0.7656\n",
      "Epoch 13/100\n",
      "100/100 [==============================] - 996s 10s/step - loss: 0.4747 - acc: 0.7687 - val_loss: 0.4342 - val_acc: 0.8047\n",
      "Epoch 14/100\n",
      "100/100 [==============================] - 1022s 10s/step - loss: 0.4783 - acc: 0.7716 - val_loss: 0.4818 - val_acc: 0.7641\n",
      "Epoch 15/100\n",
      "100/100 [==============================] - 1004s 10s/step - loss: 0.4487 - acc: 0.7875 - val_loss: 0.4407 - val_acc: 0.7883\n",
      "\n",
      "Epoch 00015: ReduceLROnPlateau reducing learning rate to 0.0001250000059371814.\n",
      "Epoch 16/100\n",
      "100/100 [==============================] - 1002s 10s/step - loss: 0.4712 - acc: 0.7772 - val_loss: 0.3962 - val_acc: 0.8125\n",
      "Epoch 17/100\n",
      "100/100 [==============================] - 974s 10s/step - loss: 0.4379 - acc: 0.7925 - val_loss: 0.4221 - val_acc: 0.8047\n",
      "Epoch 18/100\n",
      "100/100 [==============================] - 1007s 10s/step - loss: 0.4250 - acc: 0.8063 - val_loss: 0.4349 - val_acc: 0.8031\n",
      "\n",
      "Epoch 00018: ReduceLROnPlateau reducing learning rate to 0.0001.\n",
      "Epoch 19/100\n",
      "100/100 [==============================] - 1005s 10s/step - loss: 0.4244 - acc: 0.7984 - val_loss: 0.4319 - val_acc: 0.7984\n",
      "Epoch 20/100\n",
      "100/100 [==============================] - 996s 10s/step - loss: 0.4330 - acc: 0.7981 - val_loss: 0.4296 - val_acc: 0.8109\n",
      "Epoch 21/100\n",
      "100/100 [==============================] - 990s 10s/step - loss: 0.4000 - acc: 0.8225 - val_loss: 0.4229 - val_acc: 0.8078\n",
      "Epoch 22/100\n",
      "100/100 [==============================] - 977s 10s/step - loss: 0.4141 - acc: 0.8137 - val_loss: 0.4100 - val_acc: 0.8141\n",
      "Epoch 23/100\n",
      "100/100 [==============================] - 995s 10s/step - loss: 0.4209 - acc: 0.8084 - val_loss: 0.4103 - val_acc: 0.8031\n",
      "Epoch 24/100\n",
      "100/100 [==============================] - 1010s 10s/step - loss: 0.3806 - acc: 0.8278 - val_loss: 0.4408 - val_acc: 0.7953\n",
      "Epoch 25/100\n",
      "100/100 [==============================] - 1010s 10s/step - loss: 0.4126 - acc: 0.8094 - val_loss: 0.4144 - val_acc: 0.8109\n",
      "Epoch 26/100\n",
      "100/100 [==============================] - 1001s 10s/step - loss: 0.3894 - acc: 0.8256 - val_loss: 0.3892 - val_acc: 0.8234\n",
      "Epoch 27/100\n",
      "100/100 [==============================] - 1003s 10s/step - loss: 0.3970 - acc: 0.8222 - val_loss: 0.4174 - val_acc: 0.8046\n",
      "Epoch 28/100\n",
      "100/100 [==============================] - 991s 10s/step - loss: 0.3960 - acc: 0.8241 - val_loss: 0.5223 - val_acc: 0.7312\n",
      "Epoch 29/100\n",
      "100/100 [==============================] - 1010s 10s/step - loss: 0.3985 - acc: 0.8134 - val_loss: 0.3965 - val_acc: 0.8266\n",
      "Epoch 30/100\n",
      "100/100 [==============================] - 993s 10s/step - loss: 0.3623 - acc: 0.8384 - val_loss: 0.3870 - val_acc: 0.8156\n",
      "Epoch 31/100\n",
      "100/100 [==============================] - 1014s 10s/step - loss: 0.3770 - acc: 0.8344 - val_loss: 0.3782 - val_acc: 0.8359\n",
      "Epoch 32/100\n",
      "100/100 [==============================] - 1009s 10s/step - loss: 0.3856 - acc: 0.8225 - val_loss: 0.3545 - val_acc: 0.8297\n",
      "Epoch 33/100\n",
      "100/100 [==============================] - 1015s 10s/step - loss: 0.3816 - acc: 0.8337 - val_loss: 0.3975 - val_acc: 0.8257\n",
      "Epoch 34/100\n",
      "100/100 [==============================] - 1008s 10s/step - loss: 0.3793 - acc: 0.8241 - val_loss: 0.4314 - val_acc: 0.8078\n",
      "Epoch 35/100\n",
      "100/100 [==============================] - 1007s 10s/step - loss: 0.3873 - acc: 0.8228 - val_loss: 0.4809 - val_acc: 0.7531\n",
      "Epoch 36/100\n",
      "100/100 [==============================] - 1015s 10s/step - loss: 0.3625 - acc: 0.8441 - val_loss: 0.4119 - val_acc: 0.8156\n",
      "Epoch 37/100\n",
      "100/100 [==============================] - 1004s 10s/step - loss: 0.3655 - acc: 0.8362 - val_loss: 0.3617 - val_acc: 0.8438\n",
      "Epoch 38/100\n",
      "100/100 [==============================] - 1006s 10s/step - loss: 0.3589 - acc: 0.8409 - val_loss: 0.3590 - val_acc: 0.8420\n",
      "Epoch 39/100\n",
      "100/100 [==============================] - 1012s 10s/step - loss: 0.3622 - acc: 0.8428 - val_loss: 0.4489 - val_acc: 0.8078\n",
      "Epoch 40/100\n",
      "100/100 [==============================] - 1007s 10s/step - loss: 0.3621 - acc: 0.8375 - val_loss: 0.3867 - val_acc: 0.8375\n",
      "Epoch 41/100\n",
      "100/100 [==============================] - 1006s 10s/step - loss: 0.3653 - acc: 0.8337 - val_loss: 0.4699 - val_acc: 0.7922\n",
      "Epoch 42/100\n",
      "100/100 [==============================] - 1010s 10s/step - loss: 0.3457 - acc: 0.8450 - val_loss: 0.4126 - val_acc: 0.8031\n"
     ]
    }
   ],
   "source": [
    "history_beta = beta.fit_generator(\n",
    "    train_generator, \n",
    "    epochs = 100,\n",
    "    validation_data = val_generator,\n",
    "    validation_steps = 20,\n",
    "    steps_per_epoch = 100,\n",
    "    callbacks = call_backs  \n",
    ")"
   ]
  },
  {
   "cell_type": "code",
   "execution_count": 22,
   "metadata": {},
   "outputs": [
    {
     "data": {
      "image/png": "[encoded data removed]",
      "text/plain": [
       "<Figure size 1080x360 with 2 Axes>"
      ]
     },
     "metadata": {
      "needs_background": "light"
     },
     "output_type": "display_data"
    }
   ],
   "source": [
    "vis_history(history_beta)"
   ]
  },
  {
   "cell_type": "code",
   "execution_count": 25,
   "metadata": {},
   "outputs": [],
   "source": [
    "beta.save('../models/beta')"
   ]
  },
  {
   "cell_type": "code",
   "execution_count": 26,
   "metadata": {},
   "outputs": [],
   "source": [
    "alpha.save('../models/alpha')"
   ]
  },
  {
   "cell_type": "markdown",
   "metadata": {},
   "source": [
    "I want to do one more of these, so far alpha and beta are mostly equally good, with alpha performing a tiny bit better (their layers are identical so...). I'm gonna mix it up a little bit with the next one by adding some more complexity to all the layers (x2) and upping the dropout in the final layer. After that I will try resizing the images to a uniform shape and running that with identical code to either alpha/beta or charlie, whichever one 'wins' here. "
   ]
  },
  {
   "cell_type": "code",
   "execution_count": 27,
   "metadata": {},
   "outputs": [
    {
     "name": "stdout",
     "output_type": "stream",
     "text": [
      "_________________________________________________________________\n",
      "Layer (type)                 Output Shape              Param #   \n",
      "=================================================================\n",
      "conv2d_13 (Conv2D)           (None, 402, 358, 64)      1792      \n",
      "_________________________________________________________________\n",
      "max_pooling2d_13 (MaxPooling (None, 201, 179, 64)      0         \n",
      "_________________________________________________________________\n",
      "batch_normalization_19 (Batc (None, 201, 179, 64)      256       \n",
      "_________________________________________________________________\n",
      "dropout_19 (Dropout)         (None, 201, 179, 64)      0         \n",
      "_________________________________________________________________\n",
      "conv2d_14 (Conv2D)           (None, 199, 177, 128)     73856     \n",
      "_________________________________________________________________\n",
      "max_pooling2d_14 (MaxPooling (None, 99, 88, 128)       0         \n",
      "_________________________________________________________________\n",
      "batch_normalization_20 (Batc (None, 99, 88, 128)       512       \n",
      "_________________________________________________________________\n",
      "dropout_20 (Dropout)         (None, 99, 88, 128)       0         \n",
      "_________________________________________________________________\n",
      "conv2d_15 (Conv2D)           (None, 97, 86, 256)       295168    \n",
      "_________________________________________________________________\n",
      "max_pooling2d_15 (MaxPooling (None, 48, 43, 256)       0         \n",
      "_________________________________________________________________\n",
      "batch_normalization_21 (Batc (None, 48, 43, 256)       1024      \n",
      "_________________________________________________________________\n",
      "dropout_21 (Dropout)         (None, 48, 43, 256)       0         \n",
      "_________________________________________________________________\n",
      "conv2d_16 (Conv2D)           (None, 46, 41, 512)       1180160   \n",
      "_________________________________________________________________\n",
      "max_pooling2d_16 (MaxPooling (None, 23, 20, 512)       0         \n",
      "_________________________________________________________________\n",
      "batch_normalization_22 (Batc (None, 23, 20, 512)       2048      \n",
      "_________________________________________________________________\n",
      "dropout_22 (Dropout)         (None, 23, 20, 512)       0         \n",
      "_________________________________________________________________\n",
      "flatten_4 (Flatten)          (None, 235520)            0         \n",
      "_________________________________________________________________\n",
      "dense_10 (Dense)             (None, 256)               60293376  \n",
      "_________________________________________________________________\n",
      "batch_normalization_23 (Batc (None, 256)               1024      \n",
      "_________________________________________________________________\n",
      "dropout_23 (Dropout)         (None, 256)               0         \n",
      "_________________________________________________________________\n",
      "dense_11 (Dense)             (None, 512)               131584    \n",
      "_________________________________________________________________\n",
      "batch_normalization_24 (Batc (None, 512)               2048      \n",
      "_________________________________________________________________\n",
      "dropout_24 (Dropout)         (None, 512)               0         \n",
      "_________________________________________________________________\n",
      "dense_12 (Dense)             (None, 2)                 1026      \n",
      "=================================================================\n",
      "Total params: 61,983,874\n",
      "Trainable params: 61,980,418\n",
      "Non-trainable params: 3,456\n",
      "_________________________________________________________________\n"
     ]
    }
   ],
   "source": [
    "charlie = Sequential() \n",
    "charlie.add(Conv2D(64, (3, 3), activation = 'relu', input_shape = (width, height, 3)))#3 for rgb\n",
    "charlie.add(MaxPooling2D(pool_size=(2, 2)))\n",
    "charlie.add(BatchNormalization())\n",
    "charlie.add(Dropout(0.20))\n",
    "\n",
    "charlie.add(Conv2D(128, (3, 3), activation = 'relu'))\n",
    "charlie.add(MaxPooling2D((2, 2)))\n",
    "charlie.add(BatchNormalization())\n",
    "charlie.add(Dropout(0.20))\n",
    "\n",
    "charlie.add(Conv2D(256, (3, 3), activation = 'relu'))\n",
    "charlie.add(MaxPooling2D((2, 2)))\n",
    "charlie.add(BatchNormalization())\n",
    "charlie.add(Dropout(0.20))\n",
    "\n",
    "charlie.add(Conv2D(512, (3, 3), activation = 'relu'))\n",
    "charlie.add(MaxPooling2D((2, 2)))\n",
    "charlie.add(BatchNormalization())\n",
    "charlie.add(Dropout(0.20))\n",
    "\n",
    "charlie.add(Flatten())\n",
    "charlie.add(Dense(256, activation='relu'))\n",
    "charlie.add(BatchNormalization())\n",
    "charlie.add(Dropout(0.20))\n",
    "\n",
    "charlie.add(Dense(512, activation='relu'))\n",
    "charlie.add(BatchNormalization())\n",
    "charlie.add(Dropout(0.50))\n",
    "\n",
    "charlie.add(Dense(2, activation='softmax')) #2 for cat or dog\n",
    "charlie.compile(loss='categorical_crossentropy', optimizer='rmsprop', metrics=['accuracy'])\n",
    "\n",
    "charlie.summary()"
   ]
  },
  {
   "cell_type": "code",
   "execution_count": 28,
   "metadata": {},
   "outputs": [
    {
     "name": "stdout",
     "output_type": "stream",
     "text": [
      "Epoch 1/50\n",
      "100/100 [==============================] - 3554s 36s/step - loss: 1.1676 - acc: 0.5163 - val_loss: 4.0715 - val_acc: 0.5125\n",
      "Epoch 2/50\n",
      "100/100 [==============================] - 3358s 34s/step - loss: 0.9021 - acc: 0.5647 - val_loss: 1.3315 - val_acc: 0.5863\n",
      "Epoch 3/50\n",
      "100/100 [==============================] - 3409s 34s/step - loss: 0.7660 - acc: 0.5994 - val_loss: 1.1537 - val_acc: 0.6094\n",
      "Epoch 4/50\n",
      "100/100 [==============================] - 3262s 33s/step - loss: 0.6919 - acc: 0.6125 - val_loss: 1.0846 - val_acc: 0.6125\n",
      "Epoch 5/50\n",
      "100/100 [==============================] - 3284s 33s/step - loss: 0.6618 - acc: 0.6291 - val_loss: 0.7965 - val_acc: 0.6328\n",
      "Epoch 6/50\n",
      "100/100 [==============================] - 3376s 34s/step - loss: 0.6163 - acc: 0.6672 - val_loss: 0.6179 - val_acc: 0.6891\n",
      "Epoch 7/50\n",
      "100/100 [==============================] - 3394s 34s/step - loss: 0.5871 - acc: 0.6825 - val_loss: 0.6734 - val_acc: 0.6141\n",
      "Epoch 8/50\n",
      "100/100 [==============================] - 3263s 33s/step - loss: 0.5697 - acc: 0.7069 - val_loss: 0.7423 - val_acc: 0.6531\n",
      "\n",
      "Epoch 00008: ReduceLROnPlateau reducing learning rate to 0.0005000000237487257.\n",
      "Epoch 9/50\n",
      "100/100 [==============================] - 3213s 32s/step - loss: 0.5279 - acc: 0.7372 - val_loss: 0.5262 - val_acc: 0.7188\n",
      "Epoch 10/50\n",
      "100/100 [==============================] - 3150s 31s/step - loss: 0.5182 - acc: 0.7506 - val_loss: 0.5726 - val_acc: 0.7156\n",
      "Epoch 11/50\n",
      "100/100 [==============================] - 3128s 31s/step - loss: 0.5020 - acc: 0.7550 - val_loss: 0.6031 - val_acc: 0.7063\n",
      "\n",
      "Epoch 00011: ReduceLROnPlateau reducing learning rate to 0.0002500000118743628.\n",
      "Epoch 12/50\n",
      "100/100 [==============================] - 3141s 31s/step - loss: 0.4840 - acc: 0.7656 - val_loss: 0.5106 - val_acc: 0.7516\n",
      "Epoch 13/50\n",
      "100/100 [==============================] - 3170s 32s/step - loss: 0.4988 - acc: 0.7603 - val_loss: 0.4690 - val_acc: 0.7703\n",
      "Epoch 14/50\n",
      "100/100 [==============================] - 3199s 32s/step - loss: 0.4883 - acc: 0.7625 - val_loss: 0.4943 - val_acc: 0.7476\n",
      "Epoch 15/50\n",
      "100/100 [==============================] - 3156s 32s/step - loss: 0.4640 - acc: 0.7819 - val_loss: 0.4552 - val_acc: 0.7953\n",
      "Epoch 16/50\n",
      "100/100 [==============================] - 3222s 32s/step - loss: 0.4411 - acc: 0.7875 - val_loss: 0.4783 - val_acc: 0.7609\n",
      "Epoch 17/50\n",
      "100/100 [==============================] - 3190s 32s/step - loss: 0.4658 - acc: 0.7819 - val_loss: 0.4519 - val_acc: 0.7828\n",
      "\n",
      "Epoch 00017: ReduceLROnPlateau reducing learning rate to 0.0001250000059371814.\n",
      "Epoch 18/50\n",
      "100/100 [==============================] - 3195s 32s/step - loss: 0.4458 - acc: 0.7881 - val_loss: 0.4261 - val_acc: 0.8047\n",
      "Epoch 19/50\n",
      "100/100 [==============================] - 3225s 32s/step - loss: 0.4348 - acc: 0.7956 - val_loss: 0.4428 - val_acc: 0.7932\n",
      "Epoch 20/50\n",
      "100/100 [==============================] - 3204s 32s/step - loss: 0.4643 - acc: 0.7809 - val_loss: 0.4234 - val_acc: 0.7953\n",
      "\n",
      "Epoch 00020: ReduceLROnPlateau reducing learning rate to 0.0001.\n",
      "Epoch 21/50\n",
      "100/100 [==============================] - 3152s 32s/step - loss: 0.4530 - acc: 0.7862 - val_loss: 0.4311 - val_acc: 0.7828\n",
      "Epoch 22/50\n",
      "100/100 [==============================] - 3149s 31s/step - loss: 0.4223 - acc: 0.8053 - val_loss: 0.4037 - val_acc: 0.8156\n",
      "Epoch 23/50\n",
      "100/100 [==============================] - 3074s 31s/step - loss: 0.4161 - acc: 0.8141 - val_loss: 0.4573 - val_acc: 0.7891\n",
      "Epoch 24/50\n",
      "100/100 [==============================] - 2998s 30s/step - loss: 0.4328 - acc: 0.8044 - val_loss: 0.4014 - val_acc: 0.8203\n",
      "Epoch 25/50\n",
      "100/100 [==============================] - 3270s 33s/step - loss: 0.4190 - acc: 0.8109 - val_loss: 0.4254 - val_acc: 0.8160\n",
      "Epoch 26/50\n",
      "100/100 [==============================] - 3238s 32s/step - loss: 0.4212 - acc: 0.8106 - val_loss: 0.4603 - val_acc: 0.7844\n",
      "Epoch 27/50\n",
      "100/100 [==============================] - 3091s 31s/step - loss: 0.4087 - acc: 0.8113 - val_loss: 0.4438 - val_acc: 0.7875\n",
      "Epoch 28/50\n",
      "100/100 [==============================] - 3012s 30s/step - loss: 0.4187 - acc: 0.8116 - val_loss: 0.4114 - val_acc: 0.8219\n",
      "Epoch 29/50\n",
      "100/100 [==============================] - 3022s 30s/step - loss: 0.3994 - acc: 0.8269 - val_loss: 0.4084 - val_acc: 0.8047\n",
      "Epoch 30/50\n",
      "100/100 [==============================] - 3017s 30s/step - loss: 0.3868 - acc: 0.8269 - val_loss: 0.4743 - val_acc: 0.7906\n",
      "Epoch 31/50\n",
      "100/100 [==============================] - 2941s 29s/step - loss: 0.4068 - acc: 0.8172 - val_loss: 0.4173 - val_acc: 0.8078\n",
      "Epoch 32/50\n",
      "100/100 [==============================] - 3053s 31s/step - loss: 0.3984 - acc: 0.8172 - val_loss: 0.4204 - val_acc: 0.8047\n",
      "Epoch 33/50\n",
      "100/100 [==============================] - 3046s 30s/step - loss: 0.4022 - acc: 0.8144 - val_loss: 0.4280 - val_acc: 0.8047\n",
      "Epoch 34/50\n",
      "100/100 [==============================] - 3038s 30s/step - loss: 0.4095 - acc: 0.8122 - val_loss: 0.3987 - val_acc: 0.8141\n",
      "Epoch 35/50\n",
      "100/100 [==============================] - 2968s 30s/step - loss: 0.3865 - acc: 0.8238 - val_loss: 0.3887 - val_acc: 0.8328\n",
      "Epoch 36/50\n",
      "100/100 [==============================] - 3001s 30s/step - loss: 0.3886 - acc: 0.8312 - val_loss: 0.3914 - val_acc: 0.8141\n",
      "Epoch 37/50\n",
      "100/100 [==============================] - 3030s 30s/step - loss: 0.3790 - acc: 0.8259 - val_loss: 0.3645 - val_acc: 0.8534\n",
      "Epoch 38/50\n",
      "100/100 [==============================] - 2969s 30s/step - loss: 0.3733 - acc: 0.8422 - val_loss: 0.4079 - val_acc: 0.8156\n",
      "Epoch 39/50\n",
      "100/100 [==============================] - 3011s 30s/step - loss: 0.3962 - acc: 0.8256 - val_loss: 0.3648 - val_acc: 0.8281\n",
      "Epoch 40/50\n",
      "100/100 [==============================] - 2978s 30s/step - loss: 0.3796 - acc: 0.8363 - val_loss: 0.4397 - val_acc: 0.8125\n",
      "Epoch 41/50\n",
      "100/100 [==============================] - 2972s 30s/step - loss: 0.3926 - acc: 0.8301 - val_loss: 0.4803 - val_acc: 0.7672\n",
      "Epoch 42/50\n",
      "100/100 [==============================] - 3012s 30s/step - loss: 0.3602 - acc: 0.8409 - val_loss: 0.3844 - val_acc: 0.8203\n",
      "Epoch 43/50\n",
      "100/100 [==============================] - 3040s 30s/step - loss: 0.3588 - acc: 0.8462 - val_loss: 0.3569 - val_acc: 0.8632\n",
      "Epoch 44/50\n",
      "100/100 [==============================] - 3002s 30s/step - loss: 0.3654 - acc: 0.8397 - val_loss: 0.3954 - val_acc: 0.8172\n",
      "Epoch 45/50\n",
      "100/100 [==============================] - 3045s 30s/step - loss: 0.3663 - acc: 0.8369 - val_loss: 0.4585 - val_acc: 0.8016\n",
      "Epoch 46/50\n",
      "100/100 [==============================] - 3028s 30s/step - loss: 0.3494 - acc: 0.8406 - val_loss: 0.3625 - val_acc: 0.8406\n",
      "Epoch 47/50\n",
      "100/100 [==============================] - 3088s 31s/step - loss: 0.3717 - acc: 0.8356 - val_loss: 0.3941 - val_acc: 0.8219\n",
      "Epoch 48/50\n",
      "100/100 [==============================] - 3118s 31s/step - loss: 0.3482 - acc: 0.8513 - val_loss: 0.4060 - val_acc: 0.8156\n",
      "Epoch 49/50\n",
      "100/100 [==============================] - 3060s 31s/step - loss: 0.3274 - acc: 0.8563 - val_loss: 0.3734 - val_acc: 0.8274\n",
      "Epoch 50/50\n",
      "100/100 [==============================] - 3058s 31s/step - loss: 0.3369 - acc: 0.8578 - val_loss: 0.3901 - val_acc: 0.8250\n"
     ]
    }
   ],
   "source": [
    "history_charlie = charlie.fit_generator(\n",
    "    train_generator, \n",
    "    epochs = 50, #100 was excessive\n",
    "    validation_data = val_generator,\n",
    "    validation_steps = 20,\n",
    "    steps_per_epoch = 100,\n",
    "    callbacks = call_backs  \n",
    ")"
   ]
  },
  {
   "cell_type": "code",
   "execution_count": 30,
   "metadata": {},
   "outputs": [
    {
     "data": {
      "image/png": "[encoded data removed]",
      "text/plain": [
       "<Figure size 1080x360 with 2 Axes>"
      ]
     },
     "metadata": {
      "needs_background": "light"
     },
     "output_type": "display_data"
    }
   ],
   "source": [
    "vis_history(history_charlie)"
   ]
  },
  {
   "cell_type": "markdown",
   "metadata": {},
   "source": [
    "### Retype later!!! \n",
    "\n",
    "charlies did about as well as alpha but took like a day and a half to train, so not worth, gonna try new target size of 256x256 and use grayscale rather than rgb as cats and dogs can be diff colors, so color might not help "
   ]
  },
  {
   "cell_type": "markdown",
   "metadata": {},
   "source": [
    "### modifying img_gens"
   ]
  },
  {
   "cell_type": "code",
   "execution_count": 31,
   "metadata": {},
   "outputs": [
    {
     "name": "stdout",
     "output_type": "stream",
     "text": [
      "Found 21250 validated image filenames belonging to 2 classes.\n",
      "Found 3750 validated image filenames belonging to 2 classes.\n"
     ]
    }
   ],
   "source": [
    "img_size = (256, 256)\n",
    "\n",
    "train_generator = img_gen.flow_from_dataframe(\n",
    "    X_t,\n",
    "    data_path,\n",
    "    x_col = 'filename',\n",
    "    y_col = 'label',\n",
    "    target_size = img_size,\n",
    "    batch_size = batch_size,\n",
    "    class_mode ='categorical'\n",
    ")\n",
    "\n",
    "val_img_gen = ImageDataGenerator(rescale = 1./255.)\n",
    "\n",
    "val_generator = img_gen.flow_from_dataframe(\n",
    "    v_t,\n",
    "    data_path,\n",
    "    x_col = 'filename',\n",
    "    y_col = 'label',\n",
    "    target_size = img_size,\n",
    "    batch_size = batch_size,\n",
    "    class_mode ='categorical'\n",
    ")\n"
   ]
  },
  {
   "cell_type": "code",
   "execution_count": 34,
   "metadata": {},
   "outputs": [
    {
     "name": "stdout",
     "output_type": "stream",
     "text": [
      "_________________________________________________________________\n",
      "Layer (type)                 Output Shape              Param #   \n",
      "=================================================================\n",
      "conv2d_21 (Conv2D)           (None, 254, 254, 32)      896       \n",
      "_________________________________________________________________\n",
      "max_pooling2d_21 (MaxPooling (None, 127, 127, 32)      0         \n",
      "_________________________________________________________________\n",
      "batch_normalization_31 (Batc (None, 127, 127, 32)      128       \n",
      "_________________________________________________________________\n",
      "dropout_31 (Dropout)         (None, 127, 127, 32)      0         \n",
      "_________________________________________________________________\n",
      "conv2d_22 (Conv2D)           (None, 125, 125, 64)      18496     \n",
      "_________________________________________________________________\n",
      "max_pooling2d_22 (MaxPooling (None, 62, 62, 64)        0         \n",
      "_________________________________________________________________\n",
      "batch_normalization_32 (Batc (None, 62, 62, 64)        256       \n",
      "_________________________________________________________________\n",
      "dropout_32 (Dropout)         (None, 62, 62, 64)        0         \n",
      "_________________________________________________________________\n",
      "conv2d_23 (Conv2D)           (None, 60, 60, 128)       73856     \n",
      "_________________________________________________________________\n",
      "max_pooling2d_23 (MaxPooling (None, 30, 30, 128)       0         \n",
      "_________________________________________________________________\n",
      "batch_normalization_33 (Batc (None, 30, 30, 128)       512       \n",
      "_________________________________________________________________\n",
      "dropout_33 (Dropout)         (None, 30, 30, 128)       0         \n",
      "_________________________________________________________________\n",
      "conv2d_24 (Conv2D)           (None, 28, 28, 256)       295168    \n",
      "_________________________________________________________________\n",
      "max_pooling2d_24 (MaxPooling (None, 14, 14, 256)       0         \n",
      "_________________________________________________________________\n",
      "batch_normalization_34 (Batc (None, 14, 14, 256)       1024      \n",
      "_________________________________________________________________\n",
      "dropout_34 (Dropout)         (None, 14, 14, 256)       0         \n",
      "_________________________________________________________________\n",
      "flatten_6 (Flatten)          (None, 50176)             0         \n",
      "_________________________________________________________________\n",
      "dense_16 (Dense)             (None, 128)               6422656   \n",
      "_________________________________________________________________\n",
      "batch_normalization_35 (Batc (None, 128)               512       \n",
      "_________________________________________________________________\n",
      "dropout_35 (Dropout)         (None, 128)               0         \n",
      "_________________________________________________________________\n",
      "dense_17 (Dense)             (None, 256)               33024     \n",
      "_________________________________________________________________\n",
      "batch_normalization_36 (Batc (None, 256)               1024      \n",
      "_________________________________________________________________\n",
      "dropout_36 (Dropout)         (None, 256)               0         \n",
      "_________________________________________________________________\n",
      "dense_18 (Dense)             (None, 2)                 514       \n",
      "=================================================================\n",
      "Total params: 6,848,066\n",
      "Trainable params: 6,846,338\n",
      "Non-trainable params: 1,728\n",
      "_________________________________________________________________\n"
     ]
    }
   ],
   "source": [
    "delta = Sequential() \n",
    "delta.add(Conv2D(32, (3, 3), activation = 'relu', input_shape = (256, 256, 3)))#3 for rgb\n",
    "delta.add(MaxPooling2D(pool_size=(2, 2)))\n",
    "delta.add(BatchNormalization())\n",
    "delta.add(Dropout(0.20))\n",
    "\n",
    "delta.add(Conv2D(64, (3, 3), activation = 'relu'))\n",
    "delta.add(MaxPooling2D((2, 2)))\n",
    "delta.add(BatchNormalization())\n",
    "delta.add(Dropout(0.20))\n",
    "\n",
    "delta.add(Conv2D(128, (3, 3), activation = 'relu'))\n",
    "delta.add(MaxPooling2D((2, 2)))\n",
    "delta.add(BatchNormalization())\n",
    "delta.add(Dropout(0.20))\n",
    "\n",
    "delta.add(Conv2D(256, (3, 3), activation = 'relu'))\n",
    "delta.add(MaxPooling2D((2, 2)))\n",
    "delta.add(BatchNormalization())\n",
    "delta.add(Dropout(0.20))\n",
    "\n",
    "delta.add(Flatten())\n",
    "delta.add(Dense(128, activation='relu'))\n",
    "delta.add(BatchNormalization())\n",
    "delta.add(Dropout(0.20))\n",
    "\n",
    "delta.add(Dense(256, activation='relu'))\n",
    "delta.add(BatchNormalization())\n",
    "delta.add(Dropout(0.20))\n",
    "\n",
    "delta.add(Dense(2, activation='softmax')) #2 for cat or dog\n",
    "delta.compile(loss='categorical_crossentropy', optimizer='rmsprop', metrics=['accuracy'])\n",
    "\n",
    "delta.summary()"
   ]
  },
  {
   "cell_type": "code",
   "execution_count": 35,
   "metadata": {},
   "outputs": [
    {
     "name": "stdout",
     "output_type": "stream",
     "text": [
      "Epoch 1/50\n",
      "100/100 [==============================] - 439s 4s/step - loss: 0.8612 - acc: 0.5584 - val_loss: 1.3600 - val_acc: 0.6188\n",
      "Epoch 2/50\n",
      "100/100 [==============================] - 427s 4s/step - loss: 0.7557 - acc: 0.5831 - val_loss: 1.8542 - val_acc: 0.4797\n",
      "Epoch 3/50\n",
      "100/100 [==============================] - 427s 4s/step - loss: 0.6789 - acc: 0.6125 - val_loss: 0.6401 - val_acc: 0.6391\n",
      "Epoch 4/50\n",
      "100/100 [==============================] - 425s 4s/step - loss: 0.6350 - acc: 0.6516 - val_loss: 1.2272 - val_acc: 0.6188\n",
      "Epoch 5/50\n",
      "100/100 [==============================] - 432s 4s/step - loss: 0.6193 - acc: 0.6656 - val_loss: 0.6679 - val_acc: 0.6453\n",
      "Epoch 6/50\n",
      "100/100 [==============================] - 424s 4s/step - loss: 0.5791 - acc: 0.6894 - val_loss: 0.6051 - val_acc: 0.6743\n",
      "Epoch 7/50\n",
      "100/100 [==============================] - 421s 4s/step - loss: 0.5701 - acc: 0.7113 - val_loss: 0.6274 - val_acc: 0.6562\n",
      "Epoch 8/50\n",
      "100/100 [==============================] - 425s 4s/step - loss: 0.5557 - acc: 0.7109 - val_loss: 0.5778 - val_acc: 0.6828\n",
      "Epoch 9/50\n",
      "100/100 [==============================] - 424s 4s/step - loss: 0.5279 - acc: 0.7338 - val_loss: 0.5542 - val_acc: 0.7234\n",
      "Epoch 10/50\n",
      "100/100 [==============================] - 423s 4s/step - loss: 0.5078 - acc: 0.7503 - val_loss: 0.5570 - val_acc: 0.7094\n",
      "Epoch 11/50\n",
      "100/100 [==============================] - 424s 4s/step - loss: 0.5128 - acc: 0.7512 - val_loss: 0.4913 - val_acc: 0.7547\n",
      "Epoch 12/50\n",
      "100/100 [==============================] - 426s 4s/step - loss: 0.4603 - acc: 0.7938 - val_loss: 0.7905 - val_acc: 0.6026\n",
      "Epoch 13/50\n",
      "100/100 [==============================] - 424s 4s/step - loss: 0.4655 - acc: 0.7812 - val_loss: 0.6312 - val_acc: 0.7031\n",
      "\n",
      "Epoch 00013: ReduceLROnPlateau reducing learning rate to 0.0005000000237487257.\n",
      "Epoch 14/50\n",
      "100/100 [==============================] - 416s 4s/step - loss: 0.4111 - acc: 0.8100 - val_loss: 0.3709 - val_acc: 0.8313\n",
      "Epoch 15/50\n",
      "100/100 [==============================] - 419s 4s/step - loss: 0.3876 - acc: 0.8253 - val_loss: 0.4568 - val_acc: 0.7937\n",
      "Epoch 16/50\n",
      "100/100 [==============================] - 420s 4s/step - loss: 0.3783 - acc: 0.8284 - val_loss: 0.4163 - val_acc: 0.8266\n",
      "\n",
      "Epoch 00016: ReduceLROnPlateau reducing learning rate to 0.0002500000118743628.\n",
      "Epoch 17/50\n",
      "100/100 [==============================] - 420s 4s/step - loss: 0.3926 - acc: 0.8244 - val_loss: 0.3407 - val_acc: 0.8547\n",
      "Epoch 18/50\n",
      "100/100 [==============================] - 419s 4s/step - loss: 0.3494 - acc: 0.8544 - val_loss: 0.3644 - val_acc: 0.8436\n",
      "Epoch 19/50\n",
      "100/100 [==============================] - 418s 4s/step - loss: 0.3640 - acc: 0.8403 - val_loss: 0.3255 - val_acc: 0.8703\n",
      "Epoch 20/50\n",
      "100/100 [==============================] - 421s 4s/step - loss: 0.3626 - acc: 0.8435 - val_loss: 0.2840 - val_acc: 0.8812\n",
      "Epoch 21/50\n",
      "100/100 [==============================] - 425s 4s/step - loss: 0.3346 - acc: 0.8619 - val_loss: 0.3806 - val_acc: 0.8500\n",
      "Epoch 22/50\n",
      "100/100 [==============================] - 428s 4s/step - loss: 0.3353 - acc: 0.8550 - val_loss: 0.4401 - val_acc: 0.8156\n",
      "\n",
      "Epoch 00022: ReduceLROnPlateau reducing learning rate to 0.0001250000059371814.\n",
      "Epoch 23/50\n",
      "100/100 [==============================] - 426s 4s/step - loss: 0.3255 - acc: 0.8650 - val_loss: 0.3134 - val_acc: 0.8547\n",
      "Epoch 24/50\n",
      "100/100 [==============================] - 424s 4s/step - loss: 0.3171 - acc: 0.8675 - val_loss: 0.3690 - val_acc: 0.8485\n",
      "\n",
      "Epoch 00024: ReduceLROnPlateau reducing learning rate to 0.0001.\n",
      "Epoch 25/50\n",
      "100/100 [==============================] - 420s 4s/step - loss: 0.3013 - acc: 0.8716 - val_loss: 0.3379 - val_acc: 0.8594\n",
      "Epoch 26/50\n",
      "100/100 [==============================] - 422s 4s/step - loss: 0.3170 - acc: 0.8709 - val_loss: 0.2897 - val_acc: 0.8828\n",
      "Epoch 27/50\n",
      "100/100 [==============================] - 418s 4s/step - loss: 0.3077 - acc: 0.8663 - val_loss: 0.3338 - val_acc: 0.8578\n",
      "Epoch 28/50\n",
      "100/100 [==============================] - 423s 4s/step - loss: 0.2867 - acc: 0.8816 - val_loss: 0.3005 - val_acc: 0.8688\n",
      "Epoch 29/50\n",
      "100/100 [==============================] - 420s 4s/step - loss: 0.3032 - acc: 0.8662 - val_loss: 0.3439 - val_acc: 0.8578\n",
      "Epoch 30/50\n",
      "100/100 [==============================] - 419s 4s/step - loss: 0.2944 - acc: 0.8766 - val_loss: 0.2711 - val_acc: 0.8941\n",
      "Epoch 31/50\n",
      "100/100 [==============================] - 418s 4s/step - loss: 0.2952 - acc: 0.8775 - val_loss: 0.3198 - val_acc: 0.8609\n",
      "Epoch 32/50\n",
      "100/100 [==============================] - 422s 4s/step - loss: 0.2917 - acc: 0.8750 - val_loss: 0.2804 - val_acc: 0.8859\n",
      "Epoch 33/50\n",
      "100/100 [==============================] - 419s 4s/step - loss: 0.3050 - acc: 0.8647 - val_loss: 0.2861 - val_acc: 0.8938\n",
      "Epoch 34/50\n",
      "100/100 [==============================] - 417s 4s/step - loss: 0.3048 - acc: 0.8716 - val_loss: 0.2902 - val_acc: 0.8859\n",
      "Epoch 35/50\n",
      "100/100 [==============================] - 419s 4s/step - loss: 0.2956 - acc: 0.8772 - val_loss: 0.2973 - val_acc: 0.8766\n",
      "Epoch 36/50\n",
      "100/100 [==============================] - 417s 4s/step - loss: 0.2846 - acc: 0.8859 - val_loss: 0.2815 - val_acc: 0.8811\n",
      "Epoch 37/50\n",
      "100/100 [==============================] - 418s 4s/step - loss: 0.2850 - acc: 0.8834 - val_loss: 0.2841 - val_acc: 0.8781\n",
      "Epoch 38/50\n",
      "100/100 [==============================] - 419s 4s/step - loss: 0.2717 - acc: 0.8909 - val_loss: 0.2675 - val_acc: 0.8922\n",
      "Epoch 39/50\n",
      "100/100 [==============================] - 420s 4s/step - loss: 0.2878 - acc: 0.8781 - val_loss: 0.2893 - val_acc: 0.8828\n",
      "Epoch 40/50\n",
      "100/100 [==============================] - 415s 4s/step - loss: 0.2938 - acc: 0.8831 - val_loss: 0.3151 - val_acc: 0.8797\n",
      "Epoch 41/50\n",
      "100/100 [==============================] - 417s 4s/step - loss: 0.2814 - acc: 0.8812 - val_loss: 0.2951 - val_acc: 0.8688\n",
      "Epoch 42/50\n",
      "100/100 [==============================] - 417s 4s/step - loss: 0.2686 - acc: 0.8847 - val_loss: 0.2547 - val_acc: 0.9088\n",
      "Epoch 43/50\n",
      "100/100 [==============================] - 417s 4s/step - loss: 0.2764 - acc: 0.8897 - val_loss: 0.2877 - val_acc: 0.8766\n",
      "Epoch 44/50\n",
      "100/100 [==============================] - 417s 4s/step - loss: 0.2823 - acc: 0.8828 - val_loss: 0.2668 - val_acc: 0.8891\n",
      "Epoch 45/50\n",
      "100/100 [==============================] - 418s 4s/step - loss: 0.2704 - acc: 0.8850 - val_loss: 0.2903 - val_acc: 0.8766\n",
      "Epoch 46/50\n",
      "100/100 [==============================] - 419s 4s/step - loss: 0.2742 - acc: 0.8891 - val_loss: 0.3158 - val_acc: 0.8781\n",
      "Epoch 47/50\n",
      "100/100 [==============================] - 414s 4s/step - loss: 0.2900 - acc: 0.8900 - val_loss: 0.2897 - val_acc: 0.8797\n",
      "Epoch 48/50\n",
      "100/100 [==============================] - 438s 4s/step - loss: 0.2762 - acc: 0.8841 - val_loss: 0.2899 - val_acc: 0.8762\n",
      "Epoch 49/50\n",
      "100/100 [==============================] - 433s 4s/step - loss: 0.2474 - acc: 0.8950 - val_loss: 0.2823 - val_acc: 0.8875\n",
      "Epoch 50/50\n",
      "100/100 [==============================] - 434s 4s/step - loss: 0.2511 - acc: 0.8950 - val_loss: 0.2628 - val_acc: 0.8953\n"
     ]
    }
   ],
   "source": [
    "history_delta = delta.fit_generator(\n",
    "    train_generator, \n",
    "    epochs = 50, #100 really was excessive, time is money, and money is pizza\n",
    "    validation_data = val_generator,\n",
    "    validation_steps = 20,\n",
    "    steps_per_epoch = 100,\n",
    "    callbacks = call_backs  \n",
    ")"
   ]
  },
  {
   "cell_type": "code",
   "execution_count": 36,
   "metadata": {},
   "outputs": [
    {
     "data": {
      "image/png": "[encoded data removed]",
      "text/plain": [
       "<Figure size 1080x360 with 2 Axes>"
      ]
     },
     "metadata": {
      "needs_background": "light"
     },
     "output_type": "display_data"
    }
   ],
   "source": [
    "vis_history(history_delta)"
   ]
  },
  {
   "cell_type": "markdown",
   "metadata": {},
   "source": [
    "### Now to go from rgb to grayscale "
   ]
  },
  {
   "cell_type": "code",
   "execution_count": 37,
   "metadata": {},
   "outputs": [
    {
     "name": "stdout",
     "output_type": "stream",
     "text": [
      "Found 21250 validated image filenames belonging to 2 classes.\n",
      "Found 3750 validated image filenames belonging to 2 classes.\n"
     ]
    }
   ],
   "source": [
    "img_size = (256, 256)#keeping this cuz it worked very well last time\n",
    "\n",
    "train_generator = img_gen.flow_from_dataframe(\n",
    "    X_t,\n",
    "    data_path,\n",
    "    x_col = 'filename',\n",
    "    y_col = 'label',\n",
    "    target_size = img_size,\n",
    "    batch_size = batch_size,\n",
    "    class_mode ='categorical',\n",
    "    color_mode='grayscale'\n",
    ")\n",
    "\n",
    "val_img_gen = ImageDataGenerator(rescale = 1./255.)\n",
    "\n",
    "val_generator = img_gen.flow_from_dataframe(\n",
    "    v_t,\n",
    "    data_path,\n",
    "    x_col = 'filename',\n",
    "    y_col = 'label',\n",
    "    target_size = img_size,\n",
    "    batch_size = batch_size,\n",
    "    class_mode ='categorical',\n",
    "    color_mode='grayscale'\n",
    ")\n"
   ]
  },
  {
   "cell_type": "code",
   "execution_count": 40,
   "metadata": {},
   "outputs": [
    {
     "name": "stdout",
     "output_type": "stream",
     "text": [
      "_________________________________________________________________\n",
      "Layer (type)                 Output Shape              Param #   \n",
      "=================================================================\n",
      "conv2d_29 (Conv2D)           (None, 254, 254, 32)      320       \n",
      "_________________________________________________________________\n",
      "max_pooling2d_29 (MaxPooling (None, 127, 127, 32)      0         \n",
      "_________________________________________________________________\n",
      "batch_normalization_43 (Batc (None, 127, 127, 32)      128       \n",
      "_________________________________________________________________\n",
      "dropout_43 (Dropout)         (None, 127, 127, 32)      0         \n",
      "_________________________________________________________________\n",
      "conv2d_30 (Conv2D)           (None, 125, 125, 64)      18496     \n",
      "_________________________________________________________________\n",
      "max_pooling2d_30 (MaxPooling (None, 62, 62, 64)        0         \n",
      "_________________________________________________________________\n",
      "batch_normalization_44 (Batc (None, 62, 62, 64)        256       \n",
      "_________________________________________________________________\n",
      "dropout_44 (Dropout)         (None, 62, 62, 64)        0         \n",
      "_________________________________________________________________\n",
      "conv2d_31 (Conv2D)           (None, 60, 60, 128)       73856     \n",
      "_________________________________________________________________\n",
      "max_pooling2d_31 (MaxPooling (None, 30, 30, 128)       0         \n",
      "_________________________________________________________________\n",
      "batch_normalization_45 (Batc (None, 30, 30, 128)       512       \n",
      "_________________________________________________________________\n",
      "dropout_45 (Dropout)         (None, 30, 30, 128)       0         \n",
      "_________________________________________________________________\n",
      "conv2d_32 (Conv2D)           (None, 28, 28, 256)       295168    \n",
      "_________________________________________________________________\n",
      "max_pooling2d_32 (MaxPooling (None, 14, 14, 256)       0         \n",
      "_________________________________________________________________\n",
      "batch_normalization_46 (Batc (None, 14, 14, 256)       1024      \n",
      "_________________________________________________________________\n",
      "dropout_46 (Dropout)         (None, 14, 14, 256)       0         \n",
      "_________________________________________________________________\n",
      "flatten_8 (Flatten)          (None, 50176)             0         \n",
      "_________________________________________________________________\n",
      "dense_22 (Dense)             (None, 128)               6422656   \n",
      "_________________________________________________________________\n",
      "batch_normalization_47 (Batc (None, 128)               512       \n",
      "_________________________________________________________________\n",
      "dropout_47 (Dropout)         (None, 128)               0         \n",
      "_________________________________________________________________\n",
      "dense_23 (Dense)             (None, 256)               33024     \n",
      "_________________________________________________________________\n",
      "batch_normalization_48 (Batc (None, 256)               1024      \n",
      "_________________________________________________________________\n",
      "dropout_48 (Dropout)         (None, 256)               0         \n",
      "_________________________________________________________________\n",
      "dense_24 (Dense)             (None, 2)                 514       \n",
      "=================================================================\n",
      "Total params: 6,847,490\n",
      "Trainable params: 6,845,762\n",
      "Non-trainable params: 1,728\n",
      "_________________________________________________________________\n"
     ]
    }
   ],
   "source": [
    "echo = Sequential() \n",
    "echo.add(Conv2D(32, (3, 3), activation = 'relu', input_shape = (256, 256, 1)))#1 for grayscale\n",
    "echo.add(MaxPooling2D(pool_size=(2, 2)))\n",
    "echo.add(BatchNormalization())\n",
    "echo.add(Dropout(0.20))\n",
    "\n",
    "echo.add(Conv2D(64, (3, 3), activation = 'relu'))\n",
    "echo.add(MaxPooling2D((2, 2)))\n",
    "echo.add(BatchNormalization())\n",
    "echo.add(Dropout(0.20))\n",
    "\n",
    "echo.add(Conv2D(128, (3, 3), activation = 'relu'))\n",
    "echo.add(MaxPooling2D((2, 2)))\n",
    "echo.add(BatchNormalization())\n",
    "echo.add(Dropout(0.20))\n",
    "\n",
    "echo.add(Conv2D(256, (3, 3), activation = 'relu'))\n",
    "echo.add(MaxPooling2D((2, 2)))\n",
    "echo.add(BatchNormalization())\n",
    "echo.add(Dropout(0.20))\n",
    "\n",
    "echo.add(Flatten())\n",
    "echo.add(Dense(128, activation='relu'))\n",
    "echo.add(BatchNormalization())\n",
    "echo.add(Dropout(0.20))\n",
    "\n",
    "echo.add(Dense(256, activation='relu'))\n",
    "echo.add(BatchNormalization())\n",
    "echo.add(Dropout(0.20))\n",
    "\n",
    "echo.add(Dense(2, activation='softmax')) #2 for cat or dog\n",
    "echo.compile(loss='categorical_crossentropy', optimizer='rmsprop', metrics=['accuracy'])\n",
    "\n",
    "echo.summary()"
   ]
  },
  {
   "cell_type": "code",
   "execution_count": 41,
   "metadata": {},
   "outputs": [
    {
     "name": "stdout",
     "output_type": "stream",
     "text": [
      "Epoch 1/50\n",
      "100/100 [==============================] - 434s 4s/step - loss: 0.8673 - acc: 0.5588 - val_loss: 1.4765 - val_acc: 0.5219\n",
      "Epoch 2/50\n",
      "100/100 [==============================] - 428s 4s/step - loss: 0.7401 - acc: 0.5947 - val_loss: 0.9271 - val_acc: 0.6250\n",
      "Epoch 3/50\n",
      "100/100 [==============================] - 428s 4s/step - loss: 0.7094 - acc: 0.6059 - val_loss: 1.9494 - val_acc: 0.5469\n",
      "Epoch 4/50\n",
      "100/100 [==============================] - 415s 4s/step - loss: 0.6825 - acc: 0.6041 - val_loss: 0.9596 - val_acc: 0.6281\n",
      "Epoch 5/50\n",
      "100/100 [==============================] - 416s 4s/step - loss: 0.6397 - acc: 0.6519 - val_loss: 0.5854 - val_acc: 0.7063\n",
      "Epoch 6/50\n",
      "100/100 [==============================] - 413s 4s/step - loss: 0.5968 - acc: 0.6931 - val_loss: 0.8594 - val_acc: 0.5554\n",
      "Epoch 7/50\n",
      "100/100 [==============================] - 410s 4s/step - loss: 0.5437 - acc: 0.7209 - val_loss: 0.6372 - val_acc: 0.6500\n",
      "\n",
      "Epoch 00007: ReduceLROnPlateau reducing learning rate to 0.0005000000237487257.\n",
      "Epoch 8/50\n",
      "100/100 [==============================] - 415s 4s/step - loss: 0.5317 - acc: 0.7353 - val_loss: 0.6460 - val_acc: 0.6188\n",
      "Epoch 9/50\n",
      "100/100 [==============================] - 415s 4s/step - loss: 0.4820 - acc: 0.7697 - val_loss: 0.5398 - val_acc: 0.7016\n",
      "\n",
      "Epoch 00009: ReduceLROnPlateau reducing learning rate to 0.0002500000118743628.\n",
      "Epoch 10/50\n",
      "100/100 [==============================] - 412s 4s/step - loss: 0.4612 - acc: 0.7775 - val_loss: 0.4101 - val_acc: 0.8047\n",
      "Epoch 11/50\n",
      "100/100 [==============================] - 413s 4s/step - loss: 0.4506 - acc: 0.7897 - val_loss: 0.4529 - val_acc: 0.7750\n",
      "Epoch 12/50\n",
      "100/100 [==============================] - 411s 4s/step - loss: 0.4327 - acc: 0.8003 - val_loss: 0.5491 - val_acc: 0.7199\n",
      "\n",
      "Epoch 00012: ReduceLROnPlateau reducing learning rate to 0.0001250000059371814.\n",
      "Epoch 13/50\n",
      "100/100 [==============================] - 415s 4s/step - loss: 0.4413 - acc: 0.7981 - val_loss: 0.4332 - val_acc: 0.7984\n",
      "Epoch 14/50\n",
      "100/100 [==============================] - 408s 4s/step - loss: 0.4042 - acc: 0.8203 - val_loss: 0.3626 - val_acc: 0.8313\n",
      "Epoch 15/50\n",
      "100/100 [==============================] - 410s 4s/step - loss: 0.4030 - acc: 0.8172 - val_loss: 0.4032 - val_acc: 0.8250\n",
      "Epoch 16/50\n",
      "100/100 [==============================] - 414s 4s/step - loss: 0.3789 - acc: 0.8337 - val_loss: 0.4048 - val_acc: 0.8016\n",
      "\n",
      "Epoch 00016: ReduceLROnPlateau reducing learning rate to 0.0001.\n",
      "Epoch 17/50\n",
      "100/100 [==============================] - 412s 4s/step - loss: 0.3974 - acc: 0.8194 - val_loss: 0.3897 - val_acc: 0.8187\n",
      "Epoch 18/50\n",
      "100/100 [==============================] - 410s 4s/step - loss: 0.3946 - acc: 0.8278 - val_loss: 0.3924 - val_acc: 0.8111\n",
      "Epoch 19/50\n",
      "100/100 [==============================] - 410s 4s/step - loss: 0.3909 - acc: 0.8263 - val_loss: 0.3839 - val_acc: 0.8281\n",
      "Epoch 20/50\n",
      "100/100 [==============================] - 408s 4s/step - loss: 0.3967 - acc: 0.8209 - val_loss: 0.3529 - val_acc: 0.8578\n",
      "Epoch 21/50\n",
      "100/100 [==============================] - 411s 4s/step - loss: 0.3828 - acc: 0.8244 - val_loss: 0.3662 - val_acc: 0.8391\n",
      "Epoch 22/50\n",
      "100/100 [==============================] - 413s 4s/step - loss: 0.3806 - acc: 0.8316 - val_loss: 0.3546 - val_acc: 0.8500\n",
      "Epoch 23/50\n",
      "100/100 [==============================] - 409s 4s/step - loss: 0.3727 - acc: 0.8375 - val_loss: 0.3569 - val_acc: 0.8469\n",
      "Epoch 24/50\n",
      "100/100 [==============================] - 412s 4s/step - loss: 0.3552 - acc: 0.8488 - val_loss: 0.3955 - val_acc: 0.8241\n",
      "Epoch 25/50\n",
      "100/100 [==============================] - 411s 4s/step - loss: 0.3636 - acc: 0.8391 - val_loss: 0.3406 - val_acc: 0.8531\n",
      "Epoch 26/50\n",
      "100/100 [==============================] - 412s 4s/step - loss: 0.3746 - acc: 0.8272 - val_loss: 0.3562 - val_acc: 0.8328\n",
      "Epoch 27/50\n",
      "100/100 [==============================] - 408s 4s/step - loss: 0.3777 - acc: 0.8357 - val_loss: 0.3075 - val_acc: 0.8781\n",
      "Epoch 28/50\n",
      "100/100 [==============================] - 411s 4s/step - loss: 0.3492 - acc: 0.8478 - val_loss: 0.3925 - val_acc: 0.8266\n",
      "Epoch 29/50\n",
      "100/100 [==============================] - 411s 4s/step - loss: 0.3422 - acc: 0.8516 - val_loss: 0.3979 - val_acc: 0.8156\n",
      "Epoch 30/50\n",
      "100/100 [==============================] - 411s 4s/step - loss: 0.3434 - acc: 0.8556 - val_loss: 0.3455 - val_acc: 0.8453\n",
      "Epoch 31/50\n",
      "100/100 [==============================] - 411s 4s/step - loss: 0.3605 - acc: 0.8428 - val_loss: 0.4452 - val_acc: 0.7937\n",
      "Epoch 32/50\n",
      "100/100 [==============================] - 413s 4s/step - loss: 0.3408 - acc: 0.8484 - val_loss: 0.3371 - val_acc: 0.8531\n",
      "Epoch 33/50\n",
      "100/100 [==============================] - 413s 4s/step - loss: 0.3545 - acc: 0.8428 - val_loss: 0.3139 - val_acc: 0.8672\n",
      "Epoch 34/50\n",
      "100/100 [==============================] - 407s 4s/step - loss: 0.3718 - acc: 0.8419 - val_loss: 0.3260 - val_acc: 0.8578\n",
      "Epoch 35/50\n",
      "100/100 [==============================] - 409s 4s/step - loss: 0.3292 - acc: 0.8547 - val_loss: 0.3326 - val_acc: 0.8516\n",
      "Epoch 36/50\n",
      "100/100 [==============================] - 408s 4s/step - loss: 0.3442 - acc: 0.8491 - val_loss: 0.3668 - val_acc: 0.8355\n",
      "Epoch 37/50\n",
      "100/100 [==============================] - 409s 4s/step - loss: 0.3199 - acc: 0.8659 - val_loss: 0.3506 - val_acc: 0.8594\n"
     ]
    }
   ],
   "source": [
    "history_echo = echo.fit_generator(\n",
    "    train_generator, \n",
    "    epochs = 50, #100 really was excessive, time is money, and money is pizza\n",
    "    validation_data = val_generator,\n",
    "    validation_steps = 20,\n",
    "    steps_per_epoch = 100,\n",
    "    callbacks = call_backs  \n",
    ")"
   ]
  },
  {
   "cell_type": "code",
   "execution_count": 42,
   "metadata": {},
   "outputs": [
    {
     "data": {
      "image/png": "[encoded data removed]",
      "text/plain": [
       "<Figure size 1080x360 with 2 Axes>"
      ]
     },
     "metadata": {
      "needs_background": "light"
     },
     "output_type": "display_data"
    }
   ],
   "source": [
    "vis_history(history_echo)"
   ]
  },
  {
   "cell_type": "markdown",
   "metadata": {},
   "source": [
    "Not bad but not as good as delta, still impressed."
   ]
  },
  {
   "cell_type": "code",
   "execution_count": 43,
   "metadata": {},
   "outputs": [],
   "source": [
    "delta.save('../models/delta')\n",
    "echo.save('../models/echo')"
   ]
  },
  {
   "cell_type": "markdown",
   "metadata": {},
   "source": [
    "## Evaluation"
   ]
  },
  {
   "cell_type": "markdown",
   "metadata": {},
   "source": [
    "Sure I can see the accuracy scores but I want to better understand what biases the models may have, for instance say that even though echo had worse accuracy scores than delta, if echo guessed cat or dog evenly while delta was overguessing in favor of dogs, I would want to use echo instead despite the poorer accuracy score. "
   ]
  },
  {
   "cell_type": "markdown",
   "metadata": {},
   "source": [
    "This showdown is going to be between echo, delta, and alpha with the validation set to see how they perform by getting their prediction results and plotting them to assess the models visually. Whichever one performs the best decided by me will go on to be the final model and take on the test set. "
   ]
  },
  {
   "cell_type": "markdown",
   "metadata": {},
   "source": [
    "Before I get any deeper into this here are how many cats (0) and dogs (1) we have in the validation set:"
   ]
  },
  {
   "cell_type": "code",
   "execution_count": 49,
   "metadata": {
    "scrolled": true
   },
   "outputs": [
    {
     "data": {
      "text/plain": [
       "<matplotlib.axes._subplots.AxesSubplot at 0x7fb5bf2a69e8>"
      ]
     },
     "execution_count": 49,
     "metadata": {},
     "output_type": "execute_result"
    },
    {
     "data": {
      "image/png": "[encoded data removed]",
      "text/plain": [
       "<Figure size 432x288 with 1 Axes>"
      ]
     },
     "metadata": {
      "needs_background": "light"
     },
     "output_type": "display_data"
    }
   ],
   "source": [
    "v_t['label'].value_counts().plot.bar()"
   ]
  },
  {
   "cell_type": "markdown",
   "metadata": {},
   "source": [
    "### Echo"
   ]
  },
  {
   "cell_type": "code",
   "execution_count": 57,
   "metadata": {},
   "outputs": [
    {
     "name": "stdout",
     "output_type": "stream",
     "text": [
      "Found 3750 validated image filenames belonging to 2 classes.\n",
      "0    373\n",
      "1    267\n",
      "Name: results, dtype: int64\n"
     ]
    },
    {
     "data": {
      "image/png": "[encoded data removed]",
      "text/plain": [
       "<Figure size 432x288 with 1 Axes>"
      ]
     },
     "metadata": {
      "needs_background": "light"
     },
     "output_type": "display_data"
    }
   ],
   "source": [
    "val_generator = img_gen.flow_from_dataframe(\n",
    "    v_t,\n",
    "    data_path,\n",
    "    x_col = 'filename',\n",
    "    y_col = 'label',\n",
    "    target_size = img_size,\n",
    "    batch_size = batch_size,\n",
    "    class_mode ='categorical',\n",
    "    color_mode='grayscale'\n",
    ")\n",
    "\n",
    "pred_e = echo.predict_generator(val_generator, steps = 20)\n",
    "echo_val_df = pd.DataFrame()\n",
    "echo_val_df['results'] = np.argmax(pred_e, axis=-1)\n",
    "echo_val_df['results'].value_counts().plot.bar()\n",
    "print(echo_val_df['results'].value_counts())"
   ]
  },
  {
   "cell_type": "markdown",
   "metadata": {},
   "source": [
    "Reminder: 0 is cat and 1 is dog"
   ]
  },
  {
   "cell_type": "markdown",
   "metadata": {},
   "source": [
    "### Delta"
   ]
  },
  {
   "cell_type": "code",
   "execution_count": 58,
   "metadata": {},
   "outputs": [
    {
     "name": "stdout",
     "output_type": "stream",
     "text": [
      "Found 3750 validated image filenames belonging to 2 classes.\n",
      "0    356\n",
      "1    284\n",
      "Name: results, dtype: int64\n"
     ]
    },
    {
     "data": {
      "image/png": "[encoded data removed]",
      "text/plain": [
       "<Figure size 432x288 with 1 Axes>"
      ]
     },
     "metadata": {
      "needs_background": "light"
     },
     "output_type": "display_data"
    }
   ],
   "source": [
    "val_generator = img_gen.flow_from_dataframe(\n",
    "    v_t,\n",
    "    data_path,\n",
    "    x_col = 'filename',\n",
    "    y_col = 'label',\n",
    "    target_size = img_size, #still 256 x 256 at this point\n",
    "    batch_size = batch_size,\n",
    "    class_mode ='categorical',\n",
    "    color_mode='rgb' #default, but wanted to illustrate difference from last one\n",
    ")\n",
    "\n",
    "\n",
    "pred_d = delta.predict_generator(val_generator, steps = 20)\n",
    "delta_val_df = pd.DataFrame()\n",
    "delta_val_df['results'] = np.argmax(pred_d, axis=-1)\n",
    "delta_val_df['results'].value_counts().plot.bar()\n",
    "print(delta_val_df['results'].value_counts())"
   ]
  },
  {
   "cell_type": "markdown",
   "metadata": {},
   "source": [
    "### alpha"
   ]
  },
  {
   "cell_type": "code",
   "execution_count": 60,
   "metadata": {},
   "outputs": [
    {
     "name": "stdout",
     "output_type": "stream",
     "text": [
      "Found 3750 validated image filenames belonging to 2 classes.\n",
      "0    324\n",
      "1    316\n",
      "Name: results, dtype: int64\n"
     ]
    },
    {
     "data": {
      "image/png": "[encoded data removed]",
      "text/plain": [
       "<Figure size 432x288 with 1 Axes>"
      ]
     },
     "metadata": {
      "needs_background": "light"
     },
     "output_type": "display_data"
    }
   ],
   "source": [
    "img_size = (width, height) #back to 404 360\n",
    "\n",
    "val_generator = img_gen.flow_from_dataframe(\n",
    "    v_t,\n",
    "    data_path,\n",
    "    x_col = 'filename',\n",
    "    y_col = 'label',\n",
    "    target_size = img_size, \n",
    "    batch_size = batch_size,\n",
    "    class_mode ='categorical',\n",
    "    color_mode='rgb' \n",
    ")\n",
    "\n",
    "\n",
    "pred_a = alpha.predict_generator(val_generator, steps = 20)\n",
    "alpha_val_df = pd.DataFrame()\n",
    "alpha_val_df['results'] = np.argmax(pred_a, axis=-1)\n",
    "alpha_val_df['results'].value_counts().plot.bar()\n",
    "print(alpha_val_df['results'].value_counts())"
   ]
  },
  {
   "cell_type": "code",
   "execution_count": null,
   "metadata": {},
   "outputs": [],
   "source": []
  }
 ],
 "metadata": {
  "kernelspec": {
   "display_name": "learn-env",
   "language": "python",
   "name": "learn-env"
  },
  "language_info": {
   "codemirror_mode": {
    "name": "ipython",
    "version": 3
   },
   "file_extension": ".py",
   "mimetype": "text/x-python",
   "name": "python",
   "nbconvert_exporter": "python",
   "pygments_lexer": "ipython3",
   "version": "3.6.9"
  }
 },
 "nbformat": 4,
 "nbformat_minor": 4
}

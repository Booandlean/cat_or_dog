{
 "cells": [
  {
   "cell_type": "markdown",
   "metadata": {},
   "source": [
    "## Imports + data_prep"
   ]
  },
  {
   "cell_type": "code",
   "execution_count": 1,
   "metadata": {},
   "outputs": [
    {
     "name": "stderr",
     "output_type": "stream",
     "text": [
      "Using TensorFlow backend.\n"
     ]
    }
   ],
   "source": [
    "import numpy as np\n",
    "import pandas as pd \n",
    "import matplotlib.pyplot as plt\n",
    "import random\n",
    "import os\n",
    "import seaborn as sns\n",
    "from PIL import Image\n",
    "\n",
    "#keras imports\n",
    "from keras.callbacks import EarlyStopping, ReduceLROnPlateau\n",
    "import tensorflow as tf\n",
    "import tensorflow.keras.preprocessing as preprocessing\n",
    "from keras.preprocessing.image import ImageDataGenerator\n",
    "\n",
    "from keras.models import Sequential\n",
    "from keras.layers import Conv2D, MaxPooling2D, Dropout, Flatten, Dense, Activation, BatchNormalization\n",
    "from sklearn.model_selection import train_test_split"
   ]
  },
  {
   "cell_type": "code",
   "execution_count": 2,
   "metadata": {},
   "outputs": [],
   "source": [
    "from src import data_prep"
   ]
  },
  {
   "cell_type": "code",
   "execution_count": 3,
   "metadata": {},
   "outputs": [
    {
     "data": {
      "text/html": [
       "<div>\n",
       "<style scoped>\n",
       "    .dataframe tbody tr th:only-of-type {\n",
       "        vertical-align: middle;\n",
       "    }\n",
       "\n",
       "    .dataframe tbody tr th {\n",
       "        vertical-align: top;\n",
       "    }\n",
       "\n",
       "    .dataframe thead th {\n",
       "        text-align: right;\n",
       "    }\n",
       "</style>\n",
       "<table border=\"1\" class=\"dataframe\">\n",
       "  <thead>\n",
       "    <tr style=\"text-align: right;\">\n",
       "      <th></th>\n",
       "      <th>filename</th>\n",
       "      <th>label</th>\n",
       "    </tr>\n",
       "  </thead>\n",
       "  <tbody>\n",
       "    <tr>\n",
       "      <td>9712</td>\n",
       "      <td>cat.2580.jpg</td>\n",
       "      <td>cat</td>\n",
       "    </tr>\n",
       "    <tr>\n",
       "      <td>4973</td>\n",
       "      <td>dog.10769.jpg</td>\n",
       "      <td>dog</td>\n",
       "    </tr>\n",
       "    <tr>\n",
       "      <td>10125</td>\n",
       "      <td>dog.90.jpg</td>\n",
       "      <td>dog</td>\n",
       "    </tr>\n",
       "    <tr>\n",
       "      <td>2385</td>\n",
       "      <td>dog.818.jpg</td>\n",
       "      <td>dog</td>\n",
       "    </tr>\n",
       "    <tr>\n",
       "      <td>24899</td>\n",
       "      <td>dog.11655.jpg</td>\n",
       "      <td>dog</td>\n",
       "    </tr>\n",
       "    <tr>\n",
       "      <td>16783</td>\n",
       "      <td>dog.9766.jpg</td>\n",
       "      <td>dog</td>\n",
       "    </tr>\n",
       "    <tr>\n",
       "      <td>1221</td>\n",
       "      <td>cat.11931.jpg</td>\n",
       "      <td>cat</td>\n",
       "    </tr>\n",
       "    <tr>\n",
       "      <td>13999</td>\n",
       "      <td>cat.11556.jpg</td>\n",
       "      <td>cat</td>\n",
       "    </tr>\n",
       "    <tr>\n",
       "      <td>17422</td>\n",
       "      <td>cat.7419.jpg</td>\n",
       "      <td>cat</td>\n",
       "    </tr>\n",
       "    <tr>\n",
       "      <td>21621</td>\n",
       "      <td>dog.5714.jpg</td>\n",
       "      <td>dog</td>\n",
       "    </tr>\n",
       "  </tbody>\n",
       "</table>\n",
       "</div>"
      ],
      "text/plain": [
       "            filename label\n",
       "9712    cat.2580.jpg   cat\n",
       "4973   dog.10769.jpg   dog\n",
       "10125     dog.90.jpg   dog\n",
       "2385     dog.818.jpg   dog\n",
       "24899  dog.11655.jpg   dog\n",
       "16783   dog.9766.jpg   dog\n",
       "1221   cat.11931.jpg   cat\n",
       "13999  cat.11556.jpg   cat\n",
       "17422   cat.7419.jpg   cat\n",
       "21621   dog.5714.jpg   dog"
      ]
     },
     "execution_count": 3,
     "metadata": {},
     "output_type": "execute_result"
    }
   ],
   "source": [
    "df = data_prep()\n",
    "df.sample(10)"
   ]
  },
  {
   "cell_type": "markdown",
   "metadata": {},
   "source": [
    "## Modeling"
   ]
  },
  {
   "cell_type": "markdown",
   "metadata": {},
   "source": [
    "### revised EDA"
   ]
  },
  {
   "cell_type": "markdown",
   "metadata": {},
   "source": [
    "I messed up the code I used to get the average image size by including the width and height lists within the for loop, resetting them each time and only using the last image's dimensions. "
   ]
  },
  {
   "cell_type": "code",
   "execution_count": 7,
   "metadata": {},
   "outputs": [
    {
     "name": "stdout",
     "output_type": "stream",
     "text": [
      "404 360\n"
     ]
    }
   ],
   "source": [
    "width = []#these guys should have been here\n",
    "height = [] \n",
    "data_path = '../Data/train'    \n",
    "filenames = os.listdir(data_path)\n",
    "\n",
    "for filename in filenames:\n",
    "    \n",
    "    img_path = os.path.join(data_path, filename)\n",
    "    im = Image.open(img_path)\n",
    "    \n",
    "    w, h = im.size\n",
    "    \n",
    "    width.append(w)\n",
    "    height.append(h)\n",
    "    \n",
    "w_avg = sum(width)/len(width)\n",
    "h_avg = sum(height)/len(height)\n",
    "    \n",
    "width = int(w_avg)\n",
    "height = int(h_avg)\n",
    "img_size = (width, height)\n",
    "\n",
    "print(width, height)"
   ]
  },
  {
   "cell_type": "code",
   "execution_count": 13,
   "metadata": {},
   "outputs": [],
   "source": [
    "batch_size = 32"
   ]
  },
  {
   "cell_type": "code",
   "execution_count": 9,
   "metadata": {},
   "outputs": [],
   "source": [
    "earlystop = EarlyStopping(patience = 10)\n",
    "learning_rate_reduction = ReduceLROnPlateau(monitor='val_acc', patience=2, verbose=1, factor=0.5, min_lr=0.0001)\n",
    "\n",
    "call_backs = [earlystop, learning_rate_reduction]"
   ]
  },
  {
   "cell_type": "code",
   "execution_count": 11,
   "metadata": {},
   "outputs": [],
   "source": [
    "X_t, v_t = train_test_split(df, test_size = 0.15,  random_state = 7)\n",
    "X_t = X_t.reset_index(drop = True)\n",
    "v_t = v_t.reset_index(drop=True)"
   ]
  },
  {
   "cell_type": "code",
   "execution_count": 14,
   "metadata": {},
   "outputs": [
    {
     "name": "stdout",
     "output_type": "stream",
     "text": [
      "Found 21250 validated image filenames belonging to 2 classes.\n",
      "Found 3750 validated image filenames belonging to 2 classes.\n"
     ]
    }
   ],
   "source": [
    "img_gen = ImageDataGenerator(rescale = 1./255., horizontal_flip = True)\n",
    "\n",
    "train_generator = img_gen.flow_from_dataframe(\n",
    "    X_t,\n",
    "    data_path,\n",
    "    x_col = 'filename',\n",
    "    y_col = 'label',\n",
    "    target_size = img_size,\n",
    "    batch_size = batch_size,\n",
    "    class_mode ='categorical'\n",
    ")\n",
    "\n",
    "val_img_gen = ImageDataGenerator(rescale = 1./255.)\n",
    "\n",
    "val_generator = img_gen.flow_from_dataframe(\n",
    "    v_t,\n",
    "    data_path,\n",
    "    x_col = 'filename',\n",
    "    y_col = 'label',\n",
    "    target_size = img_size,\n",
    "    batch_size = batch_size,\n",
    "    class_mode ='categorical'\n",
    ")\n",
    "\n"
   ]
  },
  {
   "cell_type": "code",
   "execution_count": 15,
   "metadata": {},
   "outputs": [
    {
     "name": "stdout",
     "output_type": "stream",
     "text": [
      "_________________________________________________________________\n",
      "Layer (type)                 Output Shape              Param #   \n",
      "=================================================================\n",
      "conv2d_5 (Conv2D)            (None, 402, 358, 32)      896       \n",
      "_________________________________________________________________\n",
      "max_pooling2d_5 (MaxPooling2 (None, 201, 179, 32)      0         \n",
      "_________________________________________________________________\n",
      "batch_normalization_7 (Batch (None, 201, 179, 32)      128       \n",
      "_________________________________________________________________\n",
      "dropout_7 (Dropout)          (None, 201, 179, 32)      0         \n",
      "_________________________________________________________________\n",
      "conv2d_6 (Conv2D)            (None, 199, 177, 64)      18496     \n",
      "_________________________________________________________________\n",
      "max_pooling2d_6 (MaxPooling2 (None, 99, 88, 64)        0         \n",
      "_________________________________________________________________\n",
      "batch_normalization_8 (Batch (None, 99, 88, 64)        256       \n",
      "_________________________________________________________________\n",
      "dropout_8 (Dropout)          (None, 99, 88, 64)        0         \n",
      "_________________________________________________________________\n",
      "conv2d_7 (Conv2D)            (None, 97, 86, 128)       73856     \n",
      "_________________________________________________________________\n",
      "max_pooling2d_7 (MaxPooling2 (None, 48, 43, 128)       0         \n",
      "_________________________________________________________________\n",
      "batch_normalization_9 (Batch (None, 48, 43, 128)       512       \n",
      "_________________________________________________________________\n",
      "dropout_9 (Dropout)          (None, 48, 43, 128)       0         \n",
      "_________________________________________________________________\n",
      "conv2d_8 (Conv2D)            (None, 46, 41, 256)       295168    \n",
      "_________________________________________________________________\n",
      "max_pooling2d_8 (MaxPooling2 (None, 23, 20, 256)       0         \n",
      "_________________________________________________________________\n",
      "batch_normalization_10 (Batc (None, 23, 20, 256)       1024      \n",
      "_________________________________________________________________\n",
      "dropout_10 (Dropout)         (None, 23, 20, 256)       0         \n",
      "_________________________________________________________________\n",
      "flatten_2 (Flatten)          (None, 117760)            0         \n",
      "_________________________________________________________________\n",
      "dense_4 (Dense)              (None, 128)               15073408  \n",
      "_________________________________________________________________\n",
      "batch_normalization_11 (Batc (None, 128)               512       \n",
      "_________________________________________________________________\n",
      "dropout_11 (Dropout)         (None, 128)               0         \n",
      "_________________________________________________________________\n",
      "dense_5 (Dense)              (None, 256)               33024     \n",
      "_________________________________________________________________\n",
      "batch_normalization_12 (Batc (None, 256)               1024      \n",
      "_________________________________________________________________\n",
      "dropout_12 (Dropout)         (None, 256)               0         \n",
      "_________________________________________________________________\n",
      "dense_6 (Dense)              (None, 2)                 514       \n",
      "=================================================================\n",
      "Total params: 15,498,818\n",
      "Trainable params: 15,497,090\n",
      "Non-trainable params: 1,728\n",
      "_________________________________________________________________\n"
     ]
    }
   ],
   "source": [
    "alpha = Sequential() \n",
    "alpha.add(Conv2D(32, (3, 3), activation = 'relu', input_shape = (width, height, 3)))#3 for rgb\n",
    "alpha.add(MaxPooling2D(pool_size=(2, 2)))\n",
    "alpha.add(BatchNormalization())\n",
    "alpha.add(Dropout(0.20))\n",
    "\n",
    "alpha.add(Conv2D(64, (3, 3), activation = 'relu'))\n",
    "alpha.add(MaxPooling2D((2, 2)))\n",
    "alpha.add(BatchNormalization())\n",
    "alpha.add(Dropout(0.20))\n",
    "\n",
    "alpha.add(Conv2D(128, (3, 3), activation = 'relu'))\n",
    "alpha.add(MaxPooling2D((2, 2)))\n",
    "alpha.add(BatchNormalization())\n",
    "alpha.add(Dropout(0.20))\n",
    "\n",
    "alpha.add(Conv2D(256, (3, 3), activation = 'relu'))\n",
    "alpha.add(MaxPooling2D((2, 2)))\n",
    "alpha.add(BatchNormalization())\n",
    "alpha.add(Dropout(0.20))\n",
    "\n",
    "alpha.add(Flatten())\n",
    "alpha.add(Dense(128, activation='relu'))\n",
    "alpha.add(BatchNormalization())\n",
    "alpha.add(Dropout(0.20))\n",
    "\n",
    "alpha.add(Dense(256, activation='relu'))\n",
    "alpha.add(BatchNormalization())\n",
    "alpha.add(Dropout(0.20))\n",
    "\n",
    "alpha.add(Dense(2, activation='softmax')) #2 for cat or dog\n",
    "alpha.compile(loss='categorical_crossentropy', optimizer='rmsprop', metrics=['accuracy'])\n",
    "\n",
    "alpha.summary()"
   ]
  },
  {
   "cell_type": "code",
   "execution_count": 16,
   "metadata": {},
   "outputs": [
    {
     "name": "stderr",
     "output_type": "stream",
     "text": [
      "W1107 13:52:00.691391 4607008192 deprecation.py:323] From /Users/adamroth/opt/anaconda3/envs/learn-env/lib/python3.6/site-packages/tensorflow/python/ops/math_grad.py:1250: add_dispatch_support.<locals>.wrapper (from tensorflow.python.ops.array_ops) is deprecated and will be removed in a future version.\n",
      "Instructions for updating:\n",
      "Use tf.where in 2.0, which has the same broadcast rule as np.where\n"
     ]
    },
    {
     "name": "stdout",
     "output_type": "stream",
     "text": [
      "Epoch 1/50\n",
      "100/100 [==============================] - 1055s 11s/step - loss: 0.8922 - acc: 0.5544 - val_loss: 1.4248 - val_acc: 0.6141\n",
      "Epoch 2/50\n",
      "100/100 [==============================] - 998s 10s/step - loss: 0.7365 - acc: 0.6075 - val_loss: 1.0304 - val_acc: 0.5953\n",
      "Epoch 3/50\n",
      "100/100 [==============================] - 1034s 10s/step - loss: 0.7086 - acc: 0.6125 - val_loss: 0.7335 - val_acc: 0.5750\n",
      "\n",
      "Epoch 00003: ReduceLROnPlateau reducing learning rate to 0.0005000000237487257.\n",
      "Epoch 4/50\n",
      "100/100 [==============================] - 1035s 10s/step - loss: 0.6407 - acc: 0.6572 - val_loss: 0.5989 - val_acc: 0.6719\n",
      "Epoch 5/50\n",
      "100/100 [==============================] - 1017s 10s/step - loss: 0.5963 - acc: 0.6900 - val_loss: 0.5931 - val_acc: 0.6609\n",
      "Epoch 6/50\n",
      "100/100 [==============================] - 1006s 10s/step - loss: 0.5912 - acc: 0.6950 - val_loss: 0.5782 - val_acc: 0.6938\n",
      "Epoch 7/50\n",
      "100/100 [==============================] - 978s 10s/step - loss: 0.5935 - acc: 0.6937 - val_loss: 0.5518 - val_acc: 0.6875\n",
      "Epoch 8/50\n",
      "100/100 [==============================] - 989s 10s/step - loss: 0.5616 - acc: 0.7109 - val_loss: 0.5015 - val_acc: 0.7312\n",
      "Epoch 9/50\n",
      "100/100 [==============================] - 982s 10s/step - loss: 0.5550 - acc: 0.7241 - val_loss: 0.5418 - val_acc: 0.7234\n",
      "Epoch 10/50\n",
      "100/100 [==============================] - 1009s 10s/step - loss: 0.5314 - acc: 0.7338 - val_loss: 0.5705 - val_acc: 0.6969\n",
      "\n",
      "Epoch 00010: ReduceLROnPlateau reducing learning rate to 0.0002500000118743628.\n",
      "Epoch 11/50\n",
      "100/100 [==============================] - 986s 10s/step - loss: 0.5020 - acc: 0.7603 - val_loss: 0.5032 - val_acc: 0.7484\n",
      "Epoch 12/50\n",
      "100/100 [==============================] - 1004s 10s/step - loss: 0.4986 - acc: 0.7597 - val_loss: 0.4840 - val_acc: 0.7720\n",
      "Epoch 13/50\n",
      "100/100 [==============================] - 991s 10s/step - loss: 0.5002 - acc: 0.7647 - val_loss: 0.5310 - val_acc: 0.7359\n",
      "Epoch 14/50\n",
      "100/100 [==============================] - 976s 10s/step - loss: 0.4896 - acc: 0.7591 - val_loss: 0.4840 - val_acc: 0.7656\n",
      "\n",
      "Epoch 00014: ReduceLROnPlateau reducing learning rate to 0.0001250000059371814.\n",
      "Epoch 15/50\n",
      "100/100 [==============================] - 1036s 10s/step - loss: 0.4632 - acc: 0.7788 - val_loss: 0.4812 - val_acc: 0.7609\n",
      "Epoch 16/50\n",
      "100/100 [==============================] - 1039s 10s/step - loss: 0.4433 - acc: 0.7947 - val_loss: 0.4442 - val_acc: 0.7953\n",
      "Epoch 17/50\n",
      "100/100 [==============================] - 1010s 10s/step - loss: 0.4630 - acc: 0.7822 - val_loss: 0.4243 - val_acc: 0.8078\n",
      "Epoch 18/50\n",
      "100/100 [==============================] - 1007s 10s/step - loss: 0.4524 - acc: 0.7878 - val_loss: 0.4153 - val_acc: 0.8127\n",
      "Epoch 19/50\n",
      "100/100 [==============================] - 1009s 10s/step - loss: 0.4550 - acc: 0.7872 - val_loss: 0.4355 - val_acc: 0.7812\n",
      "Epoch 20/50\n",
      "100/100 [==============================] - 984s 10s/step - loss: 0.4495 - acc: 0.7888 - val_loss: 0.4172 - val_acc: 0.8047\n",
      "\n",
      "Epoch 00020: ReduceLROnPlateau reducing learning rate to 0.0001.\n",
      "Epoch 21/50\n",
      "100/100 [==============================] - 985s 10s/step - loss: 0.4303 - acc: 0.8066 - val_loss: 0.4890 - val_acc: 0.7719\n",
      "Epoch 22/50\n",
      "100/100 [==============================] - 1011s 10s/step - loss: 0.4286 - acc: 0.8006 - val_loss: 0.4224 - val_acc: 0.7906\n",
      "Epoch 23/50\n",
      "100/100 [==============================] - 991s 10s/step - loss: 0.4196 - acc: 0.8044 - val_loss: 0.4369 - val_acc: 0.7906\n",
      "Epoch 24/50\n",
      "100/100 [==============================] - 994s 10s/step - loss: 0.4311 - acc: 0.8091 - val_loss: 0.4317 - val_acc: 0.7980\n",
      "Epoch 25/50\n",
      "100/100 [==============================] - 992s 10s/step - loss: 0.4336 - acc: 0.7987 - val_loss: 0.4143 - val_acc: 0.8000\n",
      "Epoch 26/50\n",
      "100/100 [==============================] - 993s 10s/step - loss: 0.4049 - acc: 0.8150 - val_loss: 0.4697 - val_acc: 0.7656\n",
      "Epoch 27/50\n",
      "100/100 [==============================] - 997s 10s/step - loss: 0.4379 - acc: 0.7944 - val_loss: 0.4009 - val_acc: 0.8125\n",
      "Epoch 28/50\n",
      "100/100 [==============================] - 1003s 10s/step - loss: 0.4141 - acc: 0.8103 - val_loss: 0.4196 - val_acc: 0.8203\n",
      "Epoch 29/50\n",
      "100/100 [==============================] - 978s 10s/step - loss: 0.4045 - acc: 0.8150 - val_loss: 0.4457 - val_acc: 0.8063\n",
      "Epoch 30/50\n",
      "100/100 [==============================] - 997s 10s/step - loss: 0.4123 - acc: 0.8128 - val_loss: 0.4380 - val_acc: 0.7899\n",
      "Epoch 31/50\n",
      "100/100 [==============================] - 995s 10s/step - loss: 0.4147 - acc: 0.8072 - val_loss: 0.3969 - val_acc: 0.8203\n",
      "Epoch 32/50\n",
      "100/100 [==============================] - 987s 10s/step - loss: 0.3966 - acc: 0.8213 - val_loss: 0.4031 - val_acc: 0.8172\n",
      "Epoch 33/50\n",
      "100/100 [==============================] - 992s 10s/step - loss: 0.3816 - acc: 0.8259 - val_loss: 0.3991 - val_acc: 0.8359\n",
      "Epoch 34/50\n",
      "100/100 [==============================] - 987s 10s/step - loss: 0.4080 - acc: 0.8041 - val_loss: 0.3825 - val_acc: 0.8172\n",
      "Epoch 35/50\n",
      "100/100 [==============================] - 997s 10s/step - loss: 0.3962 - acc: 0.8225 - val_loss: 0.4993 - val_acc: 0.7578\n",
      "Epoch 36/50\n",
      "100/100 [==============================] - 985s 10s/step - loss: 0.3931 - acc: 0.8247 - val_loss: 0.4075 - val_acc: 0.8225\n",
      "Epoch 37/50\n",
      "100/100 [==============================] - 999s 10s/step - loss: 0.4038 - acc: 0.8247 - val_loss: 0.4239 - val_acc: 0.7969\n",
      "Epoch 38/50\n",
      "100/100 [==============================] - 988s 10s/step - loss: 0.3794 - acc: 0.8294 - val_loss: 0.4534 - val_acc: 0.7797\n",
      "Epoch 39/50\n",
      "100/100 [==============================] - 1002s 10s/step - loss: 0.3963 - acc: 0.8234 - val_loss: 0.4100 - val_acc: 0.8172\n",
      "Epoch 40/50\n",
      "100/100 [==============================] - 986s 10s/step - loss: 0.3873 - acc: 0.8315 - val_loss: 0.3907 - val_acc: 0.8234\n",
      "Epoch 41/50\n",
      "100/100 [==============================] - 982s 10s/step - loss: 0.3693 - acc: 0.8400 - val_loss: 0.3782 - val_acc: 0.8266\n",
      "Epoch 42/50\n",
      "100/100 [==============================] - 981s 10s/step - loss: 0.3592 - acc: 0.8413 - val_loss: 0.4690 - val_acc: 0.7818\n",
      "Epoch 43/50\n",
      "100/100 [==============================] - 972s 10s/step - loss: 0.3836 - acc: 0.8287 - val_loss: 0.3974 - val_acc: 0.8187\n",
      "Epoch 44/50\n",
      "100/100 [==============================] - 983s 10s/step - loss: 0.3722 - acc: 0.8266 - val_loss: 0.4314 - val_acc: 0.8078\n",
      "Epoch 45/50\n",
      "100/100 [==============================] - 966s 10s/step - loss: 0.3802 - acc: 0.8275 - val_loss: 0.7138 - val_acc: 0.6922\n",
      "Epoch 46/50\n",
      "100/100 [==============================] - 969s 10s/step - loss: 0.3593 - acc: 0.8394 - val_loss: 0.4196 - val_acc: 0.8125\n",
      "Epoch 47/50\n",
      "100/100 [==============================] - 963s 10s/step - loss: 0.3561 - acc: 0.8359 - val_loss: 0.3699 - val_acc: 0.8438\n",
      "Epoch 48/50\n",
      "100/100 [==============================] - 987s 10s/step - loss: 0.3628 - acc: 0.8425 - val_loss: 0.4204 - val_acc: 0.8208\n",
      "Epoch 49/50\n",
      "100/100 [==============================] - 970s 10s/step - loss: 0.3318 - acc: 0.8575 - val_loss: 0.4598 - val_acc: 0.7875\n",
      "Epoch 50/50\n",
      "100/100 [==============================] - 972s 10s/step - loss: 0.3415 - acc: 0.8466 - val_loss: 0.3737 - val_acc: 0.8344\n"
     ]
    }
   ],
   "source": [
    "history_alpha = alpha.fit_generator(\n",
    "    train_generator, \n",
    "    epochs = 50,\n",
    "    validation_data = val_generator,\n",
    "    validation_steps = 20,\n",
    "    steps_per_epoch = 100,\n",
    "    callbacks = call_backs  \n",
    ")"
   ]
  },
  {
   "cell_type": "code",
   "execution_count": 19,
   "metadata": {},
   "outputs": [
    {
     "data": {
      "image/png": "[encoded data removed]",
      "text/plain": [
       "<Figure size 1080x360 with 2 Axes>"
      ]
     },
     "metadata": {
      "needs_background": "light"
     },
     "output_type": "display_data"
    }
   ],
   "source": [
    "vis_history(history_alpha)"
   ]
  },
  {
   "cell_type": "code",
   "execution_count": 18,
   "metadata": {},
   "outputs": [],
   "source": [
    "def vis_history(history): \n",
    "    fig, ax = plt.subplots(1, 2, figsize=(15,5))\n",
    "    ax[0].set_title('loss')\n",
    "    ax[0].plot(history.epoch, history.history[\"loss\"], label=\"Train loss\")\n",
    "    ax[0].plot(history.epoch, history.history[\"val_loss\"], label=\"Validation loss\")\n",
    "    ax[1].set_title('acc')\n",
    "    ax[1].plot(history.epoch, history.history[\"acc\"], label=\"Train acc\")\n",
    "    ax[1].plot(history.epoch, history.history[\"val_acc\"], label=\"Validation acc\")\n",
    "    ax[0].legend()\n",
    "    ax[1].legend()"
   ]
  },
  {
   "cell_type": "markdown",
   "metadata": {},
   "source": [
    "Looks like it can go even longer, so I'll run even more epochs in the next model, beta. I do not plan on making any more changes to the model framework itself untill the callback shuts it down before the epochs are done."
   ]
  },
  {
   "cell_type": "code",
   "execution_count": 20,
   "metadata": {},
   "outputs": [
    {
     "name": "stdout",
     "output_type": "stream",
     "text": [
      "_________________________________________________________________\n",
      "Layer (type)                 Output Shape              Param #   \n",
      "=================================================================\n",
      "conv2d_9 (Conv2D)            (None, 402, 358, 32)      896       \n",
      "_________________________________________________________________\n",
      "max_pooling2d_9 (MaxPooling2 (None, 201, 179, 32)      0         \n",
      "_________________________________________________________________\n",
      "batch_normalization_13 (Batc (None, 201, 179, 32)      128       \n",
      "_________________________________________________________________\n",
      "dropout_13 (Dropout)         (None, 201, 179, 32)      0         \n",
      "_________________________________________________________________\n",
      "conv2d_10 (Conv2D)           (None, 199, 177, 64)      18496     \n",
      "_________________________________________________________________\n",
      "max_pooling2d_10 (MaxPooling (None, 99, 88, 64)        0         \n",
      "_________________________________________________________________\n",
      "batch_normalization_14 (Batc (None, 99, 88, 64)        256       \n",
      "_________________________________________________________________\n",
      "dropout_14 (Dropout)         (None, 99, 88, 64)        0         \n",
      "_________________________________________________________________\n",
      "conv2d_11 (Conv2D)           (None, 97, 86, 128)       73856     \n",
      "_________________________________________________________________\n",
      "max_pooling2d_11 (MaxPooling (None, 48, 43, 128)       0         \n",
      "_________________________________________________________________\n",
      "batch_normalization_15 (Batc (None, 48, 43, 128)       512       \n",
      "_________________________________________________________________\n",
      "dropout_15 (Dropout)         (None, 48, 43, 128)       0         \n",
      "_________________________________________________________________\n",
      "conv2d_12 (Conv2D)           (None, 46, 41, 256)       295168    \n",
      "_________________________________________________________________\n",
      "max_pooling2d_12 (MaxPooling (None, 23, 20, 256)       0         \n",
      "_________________________________________________________________\n",
      "batch_normalization_16 (Batc (None, 23, 20, 256)       1024      \n",
      "_________________________________________________________________\n",
      "dropout_16 (Dropout)         (None, 23, 20, 256)       0         \n",
      "_________________________________________________________________\n",
      "flatten_3 (Flatten)          (None, 117760)            0         \n",
      "_________________________________________________________________\n",
      "dense_7 (Dense)              (None, 128)               15073408  \n",
      "_________________________________________________________________\n",
      "batch_normalization_17 (Batc (None, 128)               512       \n",
      "_________________________________________________________________\n",
      "dropout_17 (Dropout)         (None, 128)               0         \n",
      "_________________________________________________________________\n",
      "dense_8 (Dense)              (None, 256)               33024     \n",
      "_________________________________________________________________\n",
      "batch_normalization_18 (Batc (None, 256)               1024      \n",
      "_________________________________________________________________\n",
      "dropout_18 (Dropout)         (None, 256)               0         \n",
      "_________________________________________________________________\n",
      "dense_9 (Dense)              (None, 2)                 514       \n",
      "=================================================================\n",
      "Total params: 15,498,818\n",
      "Trainable params: 15,497,090\n",
      "Non-trainable params: 1,728\n",
      "_________________________________________________________________\n"
     ]
    }
   ],
   "source": [
    "beta = Sequential() \n",
    "beta.add(Conv2D(32, (3, 3), activation = 'relu', input_shape = (width, height, 3)))#3 for rgb\n",
    "beta.add(MaxPooling2D(pool_size=(2, 2)))\n",
    "beta.add(BatchNormalization())\n",
    "beta.add(Dropout(0.20))\n",
    "\n",
    "beta.add(Conv2D(64, (3, 3), activation = 'relu'))\n",
    "beta.add(MaxPooling2D((2, 2)))\n",
    "beta.add(BatchNormalization())\n",
    "beta.add(Dropout(0.20))\n",
    "\n",
    "beta.add(Conv2D(128, (3, 3), activation = 'relu'))\n",
    "beta.add(MaxPooling2D((2, 2)))\n",
    "beta.add(BatchNormalization())\n",
    "beta.add(Dropout(0.20))\n",
    "\n",
    "beta.add(Conv2D(256, (3, 3), activation = 'relu'))\n",
    "beta.add(MaxPooling2D((2, 2)))\n",
    "beta.add(BatchNormalization())\n",
    "beta.add(Dropout(0.20))\n",
    "\n",
    "beta.add(Flatten())\n",
    "beta.add(Dense(128, activation='relu'))\n",
    "beta.add(BatchNormalization())\n",
    "beta.add(Dropout(0.20))\n",
    "\n",
    "beta.add(Dense(256, activation='relu'))\n",
    "beta.add(BatchNormalization())\n",
    "beta.add(Dropout(0.20))\n",
    "\n",
    "beta.add(Dense(2, activation='softmax')) #2 for cat or dog\n",
    "beta.compile(loss='categorical_crossentropy', optimizer='rmsprop', metrics=['accuracy'])\n",
    "\n",
    "beta.summary()"
   ]
  },
  {
   "cell_type": "code",
   "execution_count": 21,
   "metadata": {},
   "outputs": [
    {
     "name": "stdout",
     "output_type": "stream",
     "text": [
      "Epoch 1/100\n",
      "100/100 [==============================] - 1034s 10s/step - loss: 0.8717 - acc: 0.5669 - val_loss: 0.6969 - val_acc: 0.5891\n",
      "Epoch 2/100\n",
      "100/100 [==============================] - 1017s 10s/step - loss: 0.7376 - acc: 0.6012 - val_loss: 1.4339 - val_acc: 0.6047\n",
      "Epoch 3/100\n",
      "100/100 [==============================] - 995s 10s/step - loss: 0.6877 - acc: 0.6128 - val_loss: 1.5565 - val_acc: 0.5130\n",
      "Epoch 4/100\n",
      "100/100 [==============================] - 990s 10s/step - loss: 0.6553 - acc: 0.6391 - val_loss: 0.7426 - val_acc: 0.5766\n",
      "\n",
      "Epoch 00004: ReduceLROnPlateau reducing learning rate to 0.0005000000237487257.\n",
      "Epoch 5/100\n",
      "100/100 [==============================] - 997s 10s/step - loss: 0.6238 - acc: 0.6531 - val_loss: 0.6617 - val_acc: 0.6312\n",
      "Epoch 6/100\n",
      "100/100 [==============================] - 1012s 10s/step - loss: 0.5668 - acc: 0.7053 - val_loss: 0.5383 - val_acc: 0.7094\n",
      "Epoch 7/100\n",
      "100/100 [==============================] - 1002s 10s/step - loss: 0.5536 - acc: 0.7197 - val_loss: 0.5267 - val_acc: 0.7281\n",
      "Epoch 8/100\n",
      "100/100 [==============================] - 1018s 10s/step - loss: 0.5431 - acc: 0.7238 - val_loss: 0.5051 - val_acc: 0.7359\n",
      "Epoch 9/100\n",
      "100/100 [==============================] - 1013s 10s/step - loss: 0.5266 - acc: 0.7341 - val_loss: 0.5114 - val_acc: 0.7443\n",
      "Epoch 10/100\n",
      "100/100 [==============================] - 1002s 10s/step - loss: 0.5304 - acc: 0.7447 - val_loss: 0.5690 - val_acc: 0.7141\n",
      "Epoch 11/100\n",
      "100/100 [==============================] - 988s 10s/step - loss: 0.5216 - acc: 0.7381 - val_loss: 0.5752 - val_acc: 0.6891\n",
      "\n",
      "Epoch 00011: ReduceLROnPlateau reducing learning rate to 0.0002500000118743628.\n",
      "Epoch 12/100\n",
      "100/100 [==============================] - 1001s 10s/step - loss: 0.4629 - acc: 0.7722 - val_loss: 0.4861 - val_acc: 0.7656\n",
      "Epoch 13/100\n",
      "100/100 [==============================] - 996s 10s/step - loss: 0.4747 - acc: 0.7687 - val_loss: 0.4342 - val_acc: 0.8047\n",
      "Epoch 14/100\n",
      "100/100 [==============================] - 1022s 10s/step - loss: 0.4783 - acc: 0.7716 - val_loss: 0.4818 - val_acc: 0.7641\n",
      "Epoch 15/100\n",
      "100/100 [==============================] - 1004s 10s/step - loss: 0.4487 - acc: 0.7875 - val_loss: 0.4407 - val_acc: 0.7883\n",
      "\n",
      "Epoch 00015: ReduceLROnPlateau reducing learning rate to 0.0001250000059371814.\n",
      "Epoch 16/100\n",
      "100/100 [==============================] - 1002s 10s/step - loss: 0.4712 - acc: 0.7772 - val_loss: 0.3962 - val_acc: 0.8125\n",
      "Epoch 17/100\n",
      "100/100 [==============================] - 974s 10s/step - loss: 0.4379 - acc: 0.7925 - val_loss: 0.4221 - val_acc: 0.8047\n",
      "Epoch 18/100\n",
      "100/100 [==============================] - 1007s 10s/step - loss: 0.4250 - acc: 0.8063 - val_loss: 0.4349 - val_acc: 0.8031\n",
      "\n",
      "Epoch 00018: ReduceLROnPlateau reducing learning rate to 0.0001.\n",
      "Epoch 19/100\n",
      "100/100 [==============================] - 1005s 10s/step - loss: 0.4244 - acc: 0.7984 - val_loss: 0.4319 - val_acc: 0.7984\n",
      "Epoch 20/100\n",
      "100/100 [==============================] - 996s 10s/step - loss: 0.4330 - acc: 0.7981 - val_loss: 0.4296 - val_acc: 0.8109\n",
      "Epoch 21/100\n",
      "100/100 [==============================] - 990s 10s/step - loss: 0.4000 - acc: 0.8225 - val_loss: 0.4229 - val_acc: 0.8078\n",
      "Epoch 22/100\n",
      "100/100 [==============================] - 977s 10s/step - loss: 0.4141 - acc: 0.8137 - val_loss: 0.4100 - val_acc: 0.8141\n",
      "Epoch 23/100\n",
      "100/100 [==============================] - 995s 10s/step - loss: 0.4209 - acc: 0.8084 - val_loss: 0.4103 - val_acc: 0.8031\n",
      "Epoch 24/100\n",
      "100/100 [==============================] - 1010s 10s/step - loss: 0.3806 - acc: 0.8278 - val_loss: 0.4408 - val_acc: 0.7953\n",
      "Epoch 25/100\n",
      "100/100 [==============================] - 1010s 10s/step - loss: 0.4126 - acc: 0.8094 - val_loss: 0.4144 - val_acc: 0.8109\n",
      "Epoch 26/100\n",
      "100/100 [==============================] - 1001s 10s/step - loss: 0.3894 - acc: 0.8256 - val_loss: 0.3892 - val_acc: 0.8234\n",
      "Epoch 27/100\n",
      "100/100 [==============================] - 1003s 10s/step - loss: 0.3970 - acc: 0.8222 - val_loss: 0.4174 - val_acc: 0.8046\n",
      "Epoch 28/100\n",
      "100/100 [==============================] - 991s 10s/step - loss: 0.3960 - acc: 0.8241 - val_loss: 0.5223 - val_acc: 0.7312\n",
      "Epoch 29/100\n",
      "100/100 [==============================] - 1010s 10s/step - loss: 0.3985 - acc: 0.8134 - val_loss: 0.3965 - val_acc: 0.8266\n",
      "Epoch 30/100\n",
      "100/100 [==============================] - 993s 10s/step - loss: 0.3623 - acc: 0.8384 - val_loss: 0.3870 - val_acc: 0.8156\n",
      "Epoch 31/100\n",
      "100/100 [==============================] - 1014s 10s/step - loss: 0.3770 - acc: 0.8344 - val_loss: 0.3782 - val_acc: 0.8359\n",
      "Epoch 32/100\n",
      "100/100 [==============================] - 1009s 10s/step - loss: 0.3856 - acc: 0.8225 - val_loss: 0.3545 - val_acc: 0.8297\n",
      "Epoch 33/100\n",
      "100/100 [==============================] - 1015s 10s/step - loss: 0.3816 - acc: 0.8337 - val_loss: 0.3975 - val_acc: 0.8257\n",
      "Epoch 34/100\n",
      "100/100 [==============================] - 1008s 10s/step - loss: 0.3793 - acc: 0.8241 - val_loss: 0.4314 - val_acc: 0.8078\n",
      "Epoch 35/100\n",
      "100/100 [==============================] - 1007s 10s/step - loss: 0.3873 - acc: 0.8228 - val_loss: 0.4809 - val_acc: 0.7531\n",
      "Epoch 36/100\n",
      "100/100 [==============================] - 1015s 10s/step - loss: 0.3625 - acc: 0.8441 - val_loss: 0.4119 - val_acc: 0.8156\n",
      "Epoch 37/100\n",
      "100/100 [==============================] - 1004s 10s/step - loss: 0.3655 - acc: 0.8362 - val_loss: 0.3617 - val_acc: 0.8438\n",
      "Epoch 38/100\n",
      "100/100 [==============================] - 1006s 10s/step - loss: 0.3589 - acc: 0.8409 - val_loss: 0.3590 - val_acc: 0.8420\n",
      "Epoch 39/100\n",
      "100/100 [==============================] - 1012s 10s/step - loss: 0.3622 - acc: 0.8428 - val_loss: 0.4489 - val_acc: 0.8078\n",
      "Epoch 40/100\n",
      "100/100 [==============================] - 1007s 10s/step - loss: 0.3621 - acc: 0.8375 - val_loss: 0.3867 - val_acc: 0.8375\n",
      "Epoch 41/100\n",
      "100/100 [==============================] - 1006s 10s/step - loss: 0.3653 - acc: 0.8337 - val_loss: 0.4699 - val_acc: 0.7922\n",
      "Epoch 42/100\n",
      "100/100 [==============================] - 1010s 10s/step - loss: 0.3457 - acc: 0.8450 - val_loss: 0.4126 - val_acc: 0.8031\n"
     ]
    }
   ],
   "source": [
    "history_beta = beta.fit_generator(\n",
    "    train_generator, \n",
    "    epochs = 100,\n",
    "    validation_data = val_generator,\n",
    "    validation_steps = 20,\n",
    "    steps_per_epoch = 100,\n",
    "    callbacks = call_backs  \n",
    ")"
   ]
  },
  {
   "cell_type": "code",
   "execution_count": 22,
   "metadata": {},
   "outputs": [
    {
     "data": {
      "image/png": "[encoded data removed]",
      "text/plain": [
       "<Figure size 1080x360 with 2 Axes>"
      ]
     },
     "metadata": {
      "needs_background": "light"
     },
     "output_type": "display_data"
    }
   ],
   "source": [
    "vis_history(history_beta)"
   ]
  },
  {
   "cell_type": "code",
   "execution_count": 25,
   "metadata": {},
   "outputs": [],
   "source": [
    "beta.save('../models/beta')"
   ]
  },
  {
   "cell_type": "code",
   "execution_count": 26,
   "metadata": {},
   "outputs": [],
   "source": [
    "alpha.save('../models/alpha')"
   ]
  },
  {
   "cell_type": "code",
   "execution_count": null,
   "metadata": {},
   "outputs": [],
   "source": []
  }
 ],
 "metadata": {
  "kernelspec": {
   "display_name": "learn-env",
   "language": "python",
   "name": "learn-env"
  },
  "language_info": {
   "codemirror_mode": {
    "name": "ipython",
    "version": 3
   },
   "file_extension": ".py",
   "mimetype": "text/x-python",
   "name": "python",
   "nbconvert_exporter": "python",
   "pygments_lexer": "ipython3",
   "version": "3.6.9"
  }
 },
 "nbformat": 4,
 "nbformat_minor": 4
}
